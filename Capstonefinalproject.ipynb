{
 "cells": [
  {
   "cell_type": "markdown",
   "metadata": {},
   "source": [
    "# Caroline's Capstone Final "
   ]
  },
  {
   "cell_type": "markdown",
   "metadata": {},
   "source": [
    "## Finding the best neighbourhood for a young, social client to live in Halifax"
   ]
  },
  {
   "cell_type": "markdown",
   "metadata": {},
   "source": [
    "Loading geopy and other packages"
   ]
  },
  {
   "cell_type": "code",
   "execution_count": 47,
   "metadata": {},
   "outputs": [
    {
     "name": "stdout",
     "output_type": "stream",
     "text": [
      "Requirement already satisfied: geopy in /home/jupyterlab/conda/envs/python/lib/python3.6/site-packages (2.0.0)\n",
      "Requirement already satisfied: geographiclib<2,>=1.49 in /home/jupyterlab/conda/envs/python/lib/python3.6/site-packages (from geopy) (1.50)\n"
     ]
    }
   ],
   "source": [
    "!pip install geopy"
   ]
  },
  {
   "cell_type": "code",
   "execution_count": 48,
   "metadata": {},
   "outputs": [
    {
     "name": "stdout",
     "output_type": "stream",
     "text": [
      "Requirement already satisfied: beautifulsoup4 in /home/jupyterlab/conda/envs/python/lib/python3.6/site-packages (4.9.3)\n",
      "Requirement already satisfied: soupsieve>1.2; python_version >= \"3.0\" in /home/jupyterlab/conda/envs/python/lib/python3.6/site-packages (from beautifulsoup4) (2.1)\n",
      "Requirement already satisfied: lxml in /home/jupyterlab/conda/envs/python/lib/python3.6/site-packages (4.6.2)\n",
      "Collecting package metadata (current_repodata.json): done\n",
      "Solving environment: done\n",
      "\n",
      "# All requested packages already installed.\n",
      "\n",
      "Folium installed\n",
      "Libraries imported.\n"
     ]
    }
   ],
   "source": [
    "\n",
    "# install libraries\n",
    "!pip install beautifulsoup4\n",
    "!pip install lxml\n",
    "import requests # library to handle requests\n",
    "import pandas as pd # library for data analsysis\n",
    "import numpy as np # library to handle data in a vectorized manner\n",
    "import random # library for random number generation\n",
    "\n",
    "#!conda|install -c conda-forge geopy --yes \n",
    "from geopy.geocoders import Nominatim # module to convert an address into latitude and longitude values\n",
    "\n",
    "# displaying images\n",
    "from IPython.display import Image \n",
    "from IPython.core.display import HTML \n",
    "\n",
    "\n",
    "from IPython.display import display_html\n",
    "import pandas as pd\n",
    "import numpy as np\n",
    "    \n",
    "# tranforming json file into a pandas dataframe library\n",
    "from pandas.io.json import json_normalize\n",
    "\n",
    "!conda install -c conda-forge folium=0.5.0 --yes\n",
    "import folium # plotting library\n",
    "from bs4 import BeautifulSoup\n",
    "from sklearn.cluster import KMeans\n",
    "import matplotlib.cm as cm\n",
    "import matplotlib.colors as colors\n",
    "\n",
    "print('Folium installed')\n",
    "print('Libraries imported.')"
   ]
  },
  {
   "cell_type": "markdown",
   "metadata": {},
   "source": [
    "# Loading Data "
   ]
  },
  {
   "cell_type": "code",
   "execution_count": 49,
   "metadata": {},
   "outputs": [
    {
     "data": {
      "text/html": [
       "<div>\n",
       "<style scoped>\n",
       "    .dataframe tbody tr th:only-of-type {\n",
       "        vertical-align: middle;\n",
       "    }\n",
       "\n",
       "    .dataframe tbody tr th {\n",
       "        vertical-align: top;\n",
       "    }\n",
       "\n",
       "    .dataframe thead th {\n",
       "        text-align: right;\n",
       "    }\n",
       "</style>\n",
       "<table border=\"1\" class=\"dataframe\">\n",
       "  <thead>\n",
       "    <tr style=\"text-align: right;\">\n",
       "      <th></th>\n",
       "      <th>Postal Code</th>\n",
       "      <th>Neighbourhood</th>\n",
       "      <th>Latitude</th>\n",
       "      <th>Longitude</th>\n",
       "    </tr>\n",
       "  </thead>\n",
       "  <tbody>\n",
       "    <tr>\n",
       "      <th>0</th>\n",
       "      <td>B3M</td>\n",
       "      <td>Halifax Bedford Basin</td>\n",
       "      <td>44.6809</td>\n",
       "      <td>-63.6947</td>\n",
       "    </tr>\n",
       "    <tr>\n",
       "      <th>1</th>\n",
       "      <td>B3J</td>\n",
       "      <td>Halifax Mid-Harbour</td>\n",
       "      <td>44.6450</td>\n",
       "      <td>-63.5747</td>\n",
       "    </tr>\n",
       "    <tr>\n",
       "      <th>2</th>\n",
       "      <td>B3N</td>\n",
       "      <td>Halifax South Central</td>\n",
       "      <td>44.6435</td>\n",
       "      <td>-63.6333</td>\n",
       "    </tr>\n",
       "    <tr>\n",
       "      <th>3</th>\n",
       "      <td>B3L</td>\n",
       "      <td>Halifax Central</td>\n",
       "      <td>44.6511</td>\n",
       "      <td>-63.6140</td>\n",
       "    </tr>\n",
       "    <tr>\n",
       "      <th>4</th>\n",
       "      <td>B3P</td>\n",
       "      <td>Halifax North West Arm</td>\n",
       "      <td>44.6178</td>\n",
       "      <td>-63.5997</td>\n",
       "    </tr>\n",
       "    <tr>\n",
       "      <th>5</th>\n",
       "      <td>B3K</td>\n",
       "      <td>Halifax Upper Harbour</td>\n",
       "      <td>44.6602</td>\n",
       "      <td>-63.6010</td>\n",
       "    </tr>\n",
       "    <tr>\n",
       "      <th>6</th>\n",
       "      <td>B3H</td>\n",
       "      <td>Halifax Lower Harbour</td>\n",
       "      <td>44.6349</td>\n",
       "      <td>-63.5788</td>\n",
       "    </tr>\n",
       "    <tr>\n",
       "      <th>7</th>\n",
       "      <td>B3R</td>\n",
       "      <td>Halifax South</td>\n",
       "      <td>44.5939</td>\n",
       "      <td>-63.6234</td>\n",
       "    </tr>\n",
       "    <tr>\n",
       "      <th>8</th>\n",
       "      <td>B3S</td>\n",
       "      <td>Halifax West</td>\n",
       "      <td>44.6445</td>\n",
       "      <td>-63.6677</td>\n",
       "    </tr>\n",
       "  </tbody>\n",
       "</table>\n",
       "</div>"
      ],
      "text/plain": [
       "  Postal Code           Neighbourhood  Latitude  Longitude\n",
       "0         B3M   Halifax Bedford Basin   44.6809   -63.6947\n",
       "1         B3J     Halifax Mid-Harbour   44.6450   -63.5747\n",
       "2         B3N   Halifax South Central   44.6435   -63.6333\n",
       "3         B3L         Halifax Central   44.6511   -63.6140\n",
       "4         B3P  Halifax North West Arm   44.6178   -63.5997\n",
       "5         B3K   Halifax Upper Harbour   44.6602   -63.6010\n",
       "6         B3H   Halifax Lower Harbour   44.6349   -63.5788\n",
       "7         B3R           Halifax South   44.5939   -63.6234\n",
       "8         B3S            Halifax West   44.6445   -63.6677"
      ]
     },
     "execution_count": 49,
     "metadata": {},
     "output_type": "execute_result"
    }
   ],
   "source": [
    "# Postal code and neighbourhood \n",
    "data = pd.read_csv (r'data/halifax_postcodesnew.csv')\n",
    "#define dataframe columns\n",
    "df = pd.DataFrame(data, columns= ['Postal Code','Neighbourhood', 'Latitude','Longitude'])\n",
    "\n",
    "df.head(9)"
   ]
  },
  {
   "cell_type": "markdown",
   "metadata": {},
   "source": [
    "# Loading housing data"
   ]
  },
  {
   "cell_type": "code",
   "execution_count": 50,
   "metadata": {},
   "outputs": [
    {
     "name": "stdout",
     "output_type": "stream",
     "text": [
      "<title>Search results for: halifax house prices - House Price Hub</title>\n"
     ]
    }
   ],
   "source": [
    "# load housing data\n",
    "source = requests.get('https://housepricehub.com/search?q=halifax+house+prices&pricemin=0&pricemax=0&city=halifax').text\n",
    "soup=BeautifulSoup(source,'lxml')\n",
    "print(soup.title)\n",
    "from IPython.display import display_html\n",
    "tab = str(soup.table)\n"
   ]
  },
  {
   "cell_type": "code",
   "execution_count": 51,
   "metadata": {},
   "outputs": [
    {
     "data": {
      "text/html": [
       "<div>\n",
       "<style scoped>\n",
       "    .dataframe tbody tr th:only-of-type {\n",
       "        vertical-align: middle;\n",
       "    }\n",
       "\n",
       "    .dataframe tbody tr th {\n",
       "        vertical-align: top;\n",
       "    }\n",
       "\n",
       "    .dataframe thead th {\n",
       "        text-align: right;\n",
       "    }\n",
       "</style>\n",
       "<table border=\"1\" class=\"dataframe\">\n",
       "  <thead>\n",
       "    <tr style=\"text-align: right;\">\n",
       "      <th></th>\n",
       "      <th>Matching Rank</th>\n",
       "      <th>Property</th>\n",
       "      <th>Area</th>\n",
       "      <th>City</th>\n",
       "      <th>Price</th>\n",
       "      <th>Updated</th>\n",
       "      <th>Detailed History</th>\n",
       "    </tr>\n",
       "  </thead>\n",
       "  <tbody>\n",
       "    <tr>\n",
       "      <th>0</th>\n",
       "      <td>1</td>\n",
       "      <td>322 Transom Drive, Halifax, Nova Scotia B3M0L6</td>\n",
       "      <td>B3M</td>\n",
       "      <td>Halifax</td>\n",
       "      <td>$589,000</td>\n",
       "      <td>2/1/2019</td>\n",
       "      <td>NaN</td>\n",
       "    </tr>\n",
       "    <tr>\n",
       "      <th>1</th>\n",
       "      <td>2</td>\n",
       "      <td>6296 Chebucto Road, Halifax, Nova Scotia B3L1K8</td>\n",
       "      <td>B3L</td>\n",
       "      <td>Halifax</td>\n",
       "      <td>$400,000</td>\n",
       "      <td>2/1/2019</td>\n",
       "      <td>NaN</td>\n",
       "    </tr>\n",
       "    <tr>\n",
       "      <th>2</th>\n",
       "      <td>3</td>\n",
       "      <td>80 Tangmere Crescent, Halifax, Nova Scotia B3M1K1</td>\n",
       "      <td>B3M</td>\n",
       "      <td>Halifax</td>\n",
       "      <td>$355,000</td>\n",
       "      <td>2/1/2019</td>\n",
       "      <td>NaN</td>\n",
       "    </tr>\n",
       "    <tr>\n",
       "      <th>3</th>\n",
       "      <td>4</td>\n",
       "      <td>5521 Leeds Street, Halifax, Nova Scotia B3K2T3</td>\n",
       "      <td>B3K</td>\n",
       "      <td>Halifax</td>\n",
       "      <td>$349,900</td>\n",
       "      <td>2/1/2019</td>\n",
       "      <td>NaN</td>\n",
       "    </tr>\n",
       "    <tr>\n",
       "      <th>4</th>\n",
       "      <td>5</td>\n",
       "      <td>26 Maplewood Drive, Halifax, Nova Scotia B3N1C3</td>\n",
       "      <td>B3N</td>\n",
       "      <td>Halifax</td>\n",
       "      <td>$299,000</td>\n",
       "      <td>2/1/2019</td>\n",
       "      <td>NaN</td>\n",
       "    </tr>\n",
       "  </tbody>\n",
       "</table>\n",
       "</div>"
      ],
      "text/plain": [
       "   Matching Rank                                           Property Area  \\\n",
       "0              1     322 Transom Drive, Halifax, Nova Scotia B3M0L6  B3M   \n",
       "1              2    6296 Chebucto Road, Halifax, Nova Scotia B3L1K8  B3L   \n",
       "2              3  80 Tangmere Crescent, Halifax, Nova Scotia B3M1K1  B3M   \n",
       "3              4     5521 Leeds Street, Halifax, Nova Scotia B3K2T3  B3K   \n",
       "4              5    26 Maplewood Drive, Halifax, Nova Scotia B3N1C3  B3N   \n",
       "\n",
       "      City     Price   Updated  Detailed History  \n",
       "0  Halifax  $589,000  2/1/2019               NaN  \n",
       "1  Halifax  $400,000  2/1/2019               NaN  \n",
       "2  Halifax  $355,000  2/1/2019               NaN  \n",
       "3  Halifax  $349,900  2/1/2019               NaN  \n",
       "4  Halifax  $299,000  2/1/2019               NaN  "
      ]
     },
     "execution_count": 51,
     "metadata": {},
     "output_type": "execute_result"
    }
   ],
   "source": [
    "#define dataframe columns\n",
    "\n",
    "dfs = pd.read_html(tab)\n",
    "housing=dfs[0]\n",
    "housing.head()"
   ]
  },
  {
   "cell_type": "code",
   "execution_count": 52,
   "metadata": {},
   "outputs": [
    {
     "data": {
      "text/html": [
       "<div>\n",
       "<style scoped>\n",
       "    .dataframe tbody tr th:only-of-type {\n",
       "        vertical-align: middle;\n",
       "    }\n",
       "\n",
       "    .dataframe tbody tr th {\n",
       "        vertical-align: top;\n",
       "    }\n",
       "\n",
       "    .dataframe thead th {\n",
       "        text-align: right;\n",
       "    }\n",
       "</style>\n",
       "<table border=\"1\" class=\"dataframe\">\n",
       "  <thead>\n",
       "    <tr style=\"text-align: right;\">\n",
       "      <th></th>\n",
       "      <th>Property</th>\n",
       "      <th>Postal Code</th>\n",
       "      <th>Price</th>\n",
       "    </tr>\n",
       "  </thead>\n",
       "  <tbody>\n",
       "    <tr>\n",
       "      <th>0</th>\n",
       "      <td>322 Transom Drive, Halifax, Nova Scotia B3M0L6</td>\n",
       "      <td>B3M</td>\n",
       "      <td>$589,000</td>\n",
       "    </tr>\n",
       "    <tr>\n",
       "      <th>1</th>\n",
       "      <td>6296 Chebucto Road, Halifax, Nova Scotia B3L1K8</td>\n",
       "      <td>B3L</td>\n",
       "      <td>$400,000</td>\n",
       "    </tr>\n",
       "    <tr>\n",
       "      <th>2</th>\n",
       "      <td>80 Tangmere Crescent, Halifax, Nova Scotia B3M1K1</td>\n",
       "      <td>B3M</td>\n",
       "      <td>$355,000</td>\n",
       "    </tr>\n",
       "    <tr>\n",
       "      <th>3</th>\n",
       "      <td>5521 Leeds Street, Halifax, Nova Scotia B3K2T3</td>\n",
       "      <td>B3K</td>\n",
       "      <td>$349,900</td>\n",
       "    </tr>\n",
       "    <tr>\n",
       "      <th>4</th>\n",
       "      <td>26 Maplewood Drive, Halifax, Nova Scotia B3N1C3</td>\n",
       "      <td>B3N</td>\n",
       "      <td>$299,000</td>\n",
       "    </tr>\n",
       "  </tbody>\n",
       "</table>\n",
       "</div>"
      ],
      "text/plain": [
       "                                            Property Postal Code     Price\n",
       "0     322 Transom Drive, Halifax, Nova Scotia B3M0L6         B3M  $589,000\n",
       "1    6296 Chebucto Road, Halifax, Nova Scotia B3L1K8         B3L  $400,000\n",
       "2  80 Tangmere Crescent, Halifax, Nova Scotia B3M1K1         B3M  $355,000\n",
       "3     5521 Leeds Street, Halifax, Nova Scotia B3K2T3         B3K  $349,900\n",
       "4    26 Maplewood Drive, Halifax, Nova Scotia B3N1C3         B3N  $299,000"
      ]
     },
     "execution_count": 52,
     "metadata": {},
     "output_type": "execute_result"
    }
   ],
   "source": [
    "#rename Area to postal code to match first table\n",
    "housing.rename(columns={'Area':'Postal Code'},inplace=True)\n",
    "\n",
    "# calling needed columns \n",
    "house= housing[['Property','Postal Code','Price']]\n",
    "\n",
    "house.head()"
   ]
  },
  {
   "cell_type": "code",
   "execution_count": 53,
   "metadata": {},
   "outputs": [
    {
     "data": {
      "text/html": [
       "<div>\n",
       "<style scoped>\n",
       "    .dataframe tbody tr th:only-of-type {\n",
       "        vertical-align: middle;\n",
       "    }\n",
       "\n",
       "    .dataframe tbody tr th {\n",
       "        vertical-align: top;\n",
       "    }\n",
       "\n",
       "    .dataframe thead th {\n",
       "        text-align: right;\n",
       "    }\n",
       "</style>\n",
       "<table border=\"1\" class=\"dataframe\">\n",
       "  <thead>\n",
       "    <tr style=\"text-align: right;\">\n",
       "      <th></th>\n",
       "      <th>Postal Code</th>\n",
       "      <th>Neighbourhood</th>\n",
       "      <th>Latitude</th>\n",
       "      <th>Longitude</th>\n",
       "      <th>Property</th>\n",
       "      <th>Price</th>\n",
       "    </tr>\n",
       "  </thead>\n",
       "  <tbody>\n",
       "    <tr>\n",
       "      <th>0</th>\n",
       "      <td>B3M</td>\n",
       "      <td>Halifax Bedford Basin</td>\n",
       "      <td>44.6809</td>\n",
       "      <td>-63.6947</td>\n",
       "      <td>322 Transom Drive, Halifax, Nova Scotia B3M0L6</td>\n",
       "      <td>$589,000</td>\n",
       "    </tr>\n",
       "    <tr>\n",
       "      <th>1</th>\n",
       "      <td>B3M</td>\n",
       "      <td>Halifax Bedford Basin</td>\n",
       "      <td>44.6809</td>\n",
       "      <td>-63.6947</td>\n",
       "      <td>80 Tangmere Crescent, Halifax, Nova Scotia B3M1K1</td>\n",
       "      <td>$355,000</td>\n",
       "    </tr>\n",
       "    <tr>\n",
       "      <th>2</th>\n",
       "      <td>B3M</td>\n",
       "      <td>Halifax Bedford Basin</td>\n",
       "      <td>44.6809</td>\n",
       "      <td>-63.6947</td>\n",
       "      <td>47 Fleetview Drive, Halifax, Nova Scotia B3M4W1</td>\n",
       "      <td>$284,900</td>\n",
       "    </tr>\n",
       "    <tr>\n",
       "      <th>3</th>\n",
       "      <td>B3M</td>\n",
       "      <td>Halifax Bedford Basin</td>\n",
       "      <td>44.6809</td>\n",
       "      <td>-63.6947</td>\n",
       "      <td>171 CRESTHAVEN Drive, Halifax, Nova Scotia B3M4S4</td>\n",
       "      <td>$629,900</td>\n",
       "    </tr>\n",
       "    <tr>\n",
       "      <th>4</th>\n",
       "      <td>B3M</td>\n",
       "      <td>Halifax Bedford Basin</td>\n",
       "      <td>44.6809</td>\n",
       "      <td>-63.6947</td>\n",
       "      <td>Lot SB20D 322 Starboard Drive, Halifax, Nova S...</td>\n",
       "      <td>$599,900</td>\n",
       "    </tr>\n",
       "  </tbody>\n",
       "</table>\n",
       "</div>"
      ],
      "text/plain": [
       "  Postal Code          Neighbourhood  Latitude  Longitude  \\\n",
       "0         B3M  Halifax Bedford Basin   44.6809   -63.6947   \n",
       "1         B3M  Halifax Bedford Basin   44.6809   -63.6947   \n",
       "2         B3M  Halifax Bedford Basin   44.6809   -63.6947   \n",
       "3         B3M  Halifax Bedford Basin   44.6809   -63.6947   \n",
       "4         B3M  Halifax Bedford Basin   44.6809   -63.6947   \n",
       "\n",
       "                                            Property     Price  \n",
       "0     322 Transom Drive, Halifax, Nova Scotia B3M0L6  $589,000  \n",
       "1  80 Tangmere Crescent, Halifax, Nova Scotia B3M1K1  $355,000  \n",
       "2    47 Fleetview Drive, Halifax, Nova Scotia B3M4W1  $284,900  \n",
       "3  171 CRESTHAVEN Drive, Halifax, Nova Scotia B3M4S4  $629,900  \n",
       "4  Lot SB20D 322 Starboard Drive, Halifax, Nova S...  $599,900  "
      ]
     },
     "execution_count": 53,
     "metadata": {},
     "output_type": "execute_result"
    }
   ],
   "source": [
    "# merging the tables \n",
    "\n",
    "data = pd.merge(df,house,on='Postal Code')\n",
    "data.head()"
   ]
  },
  {
   "cell_type": "markdown",
   "metadata": {},
   "source": [
    "# Finding the affordable neighbourhoods"
   ]
  },
  {
   "cell_type": "markdown",
   "metadata": {},
   "source": [
    "Finding houses that are under the $400,000 price limit"
   ]
  },
  {
   "cell_type": "code",
   "execution_count": 54,
   "metadata": {},
   "outputs": [],
   "source": [
    "# determining data type of 'Price' column \n",
    "data.dtypes\n",
    "# -> Price is listed as object\n",
    "# convert Price objects to number values \n",
    "cost = data.Price.replace('\\D', '', regex=True).astype(int)"
   ]
  },
  {
   "cell_type": "code",
   "execution_count": 55,
   "metadata": {},
   "outputs": [
    {
     "data": {
      "text/html": [
       "<div>\n",
       "<style scoped>\n",
       "    .dataframe tbody tr th:only-of-type {\n",
       "        vertical-align: middle;\n",
       "    }\n",
       "\n",
       "    .dataframe tbody tr th {\n",
       "        vertical-align: top;\n",
       "    }\n",
       "\n",
       "    .dataframe thead th {\n",
       "        text-align: right;\n",
       "    }\n",
       "</style>\n",
       "<table border=\"1\" class=\"dataframe\">\n",
       "  <thead>\n",
       "    <tr style=\"text-align: right;\">\n",
       "      <th></th>\n",
       "      <th>Postal Code</th>\n",
       "      <th>Neighbourhood</th>\n",
       "      <th>Latitude</th>\n",
       "      <th>Longitude</th>\n",
       "      <th>Property</th>\n",
       "      <th>Price</th>\n",
       "    </tr>\n",
       "  </thead>\n",
       "  <tbody>\n",
       "    <tr>\n",
       "      <th>0</th>\n",
       "      <td>B3M</td>\n",
       "      <td>Halifax Bedford Basin</td>\n",
       "      <td>44.6809</td>\n",
       "      <td>-63.6947</td>\n",
       "      <td>322 Transom Drive, Halifax, Nova Scotia B3M0L6</td>\n",
       "      <td>589000</td>\n",
       "    </tr>\n",
       "    <tr>\n",
       "      <th>1</th>\n",
       "      <td>B3M</td>\n",
       "      <td>Halifax Bedford Basin</td>\n",
       "      <td>44.6809</td>\n",
       "      <td>-63.6947</td>\n",
       "      <td>80 Tangmere Crescent, Halifax, Nova Scotia B3M1K1</td>\n",
       "      <td>355000</td>\n",
       "    </tr>\n",
       "    <tr>\n",
       "      <th>2</th>\n",
       "      <td>B3M</td>\n",
       "      <td>Halifax Bedford Basin</td>\n",
       "      <td>44.6809</td>\n",
       "      <td>-63.6947</td>\n",
       "      <td>47 Fleetview Drive, Halifax, Nova Scotia B3M4W1</td>\n",
       "      <td>284900</td>\n",
       "    </tr>\n",
       "    <tr>\n",
       "      <th>3</th>\n",
       "      <td>B3M</td>\n",
       "      <td>Halifax Bedford Basin</td>\n",
       "      <td>44.6809</td>\n",
       "      <td>-63.6947</td>\n",
       "      <td>171 CRESTHAVEN Drive, Halifax, Nova Scotia B3M4S4</td>\n",
       "      <td>629900</td>\n",
       "    </tr>\n",
       "    <tr>\n",
       "      <th>4</th>\n",
       "      <td>B3M</td>\n",
       "      <td>Halifax Bedford Basin</td>\n",
       "      <td>44.6809</td>\n",
       "      <td>-63.6947</td>\n",
       "      <td>Lot SB20D 322 Starboard Drive, Halifax, Nova S...</td>\n",
       "      <td>599900</td>\n",
       "    </tr>\n",
       "  </tbody>\n",
       "</table>\n",
       "</div>"
      ],
      "text/plain": [
       "  Postal Code          Neighbourhood  Latitude  Longitude  \\\n",
       "0         B3M  Halifax Bedford Basin   44.6809   -63.6947   \n",
       "1         B3M  Halifax Bedford Basin   44.6809   -63.6947   \n",
       "2         B3M  Halifax Bedford Basin   44.6809   -63.6947   \n",
       "3         B3M  Halifax Bedford Basin   44.6809   -63.6947   \n",
       "4         B3M  Halifax Bedford Basin   44.6809   -63.6947   \n",
       "\n",
       "                                            Property   Price  \n",
       "0     322 Transom Drive, Halifax, Nova Scotia B3M0L6  589000  \n",
       "1  80 Tangmere Crescent, Halifax, Nova Scotia B3M1K1  355000  \n",
       "2    47 Fleetview Drive, Halifax, Nova Scotia B3M4W1  284900  \n",
       "3  171 CRESTHAVEN Drive, Halifax, Nova Scotia B3M4S4  629900  \n",
       "4  Lot SB20D 322 Starboard Drive, Halifax, Nova S...  599900  "
      ]
     },
     "execution_count": 55,
     "metadata": {},
     "output_type": "execute_result"
    }
   ],
   "source": [
    "# replace Price column with new cost column\n",
    "data['Price']=cost.values\n",
    "\n",
    "data.head()"
   ]
  },
  {
   "cell_type": "code",
   "execution_count": 56,
   "metadata": {},
   "outputs": [
    {
     "data": {
      "text/html": [
       "<div>\n",
       "<style scoped>\n",
       "    .dataframe tbody tr th:only-of-type {\n",
       "        vertical-align: middle;\n",
       "    }\n",
       "\n",
       "    .dataframe tbody tr th {\n",
       "        vertical-align: top;\n",
       "    }\n",
       "\n",
       "    .dataframe thead th {\n",
       "        text-align: right;\n",
       "    }\n",
       "</style>\n",
       "<table border=\"1\" class=\"dataframe\">\n",
       "  <thead>\n",
       "    <tr style=\"text-align: right;\">\n",
       "      <th></th>\n",
       "      <th>Postal Code</th>\n",
       "      <th>Neighbourhood</th>\n",
       "      <th>Latitude</th>\n",
       "      <th>Longitude</th>\n",
       "      <th>Property</th>\n",
       "      <th>Price</th>\n",
       "    </tr>\n",
       "  </thead>\n",
       "  <tbody>\n",
       "    <tr>\n",
       "      <th>1</th>\n",
       "      <td>B3M</td>\n",
       "      <td>Halifax Bedford Basin</td>\n",
       "      <td>44.6809</td>\n",
       "      <td>-63.6947</td>\n",
       "      <td>80 Tangmere Crescent, Halifax, Nova Scotia B3M1K1</td>\n",
       "      <td>355000</td>\n",
       "    </tr>\n",
       "    <tr>\n",
       "      <th>2</th>\n",
       "      <td>B3M</td>\n",
       "      <td>Halifax Bedford Basin</td>\n",
       "      <td>44.6809</td>\n",
       "      <td>-63.6947</td>\n",
       "      <td>47 Fleetview Drive, Halifax, Nova Scotia B3M4W1</td>\n",
       "      <td>284900</td>\n",
       "    </tr>\n",
       "    <tr>\n",
       "      <th>6</th>\n",
       "      <td>B3M</td>\n",
       "      <td>Halifax Bedford Basin</td>\n",
       "      <td>44.6809</td>\n",
       "      <td>-63.6947</td>\n",
       "      <td>40 Clayton Park Drive, Halifax, Nova Scotia B3...</td>\n",
       "      <td>359900</td>\n",
       "    </tr>\n",
       "    <tr>\n",
       "      <th>7</th>\n",
       "      <td>B3M</td>\n",
       "      <td>Halifax Bedford Basin</td>\n",
       "      <td>44.6809</td>\n",
       "      <td>-63.6947</td>\n",
       "      <td>138 STONEYBROOK Court, Halifax, Nova Scotia B3...</td>\n",
       "      <td>295000</td>\n",
       "    </tr>\n",
       "    <tr>\n",
       "      <th>8</th>\n",
       "      <td>B3M</td>\n",
       "      <td>Halifax Bedford Basin</td>\n",
       "      <td>44.6809</td>\n",
       "      <td>-63.6947</td>\n",
       "      <td>58 Outrigger Crescent, Halifax, Nova Scotia B3...</td>\n",
       "      <td>294500</td>\n",
       "    </tr>\n",
       "  </tbody>\n",
       "</table>\n",
       "</div>"
      ],
      "text/plain": [
       "  Postal Code          Neighbourhood  Latitude  Longitude  \\\n",
       "1         B3M  Halifax Bedford Basin   44.6809   -63.6947   \n",
       "2         B3M  Halifax Bedford Basin   44.6809   -63.6947   \n",
       "6         B3M  Halifax Bedford Basin   44.6809   -63.6947   \n",
       "7         B3M  Halifax Bedford Basin   44.6809   -63.6947   \n",
       "8         B3M  Halifax Bedford Basin   44.6809   -63.6947   \n",
       "\n",
       "                                            Property   Price  \n",
       "1  80 Tangmere Crescent, Halifax, Nova Scotia B3M1K1  355000  \n",
       "2    47 Fleetview Drive, Halifax, Nova Scotia B3M4W1  284900  \n",
       "6  40 Clayton Park Drive, Halifax, Nova Scotia B3...  359900  \n",
       "7  138 STONEYBROOK Court, Halifax, Nova Scotia B3...  295000  \n",
       "8  58 Outrigger Crescent, Halifax, Nova Scotia B3...  294500  "
      ]
     },
     "execution_count": 56,
     "metadata": {},
     "output_type": "execute_result"
    }
   ],
   "source": [
    "# Find houses between the values of $0-$400,000\n",
    "limit = data[(data['Price'] >= 0) & (data['Price'] <= 400000)]\n",
    "limit.head()\n"
   ]
  },
  {
   "cell_type": "markdown",
   "metadata": {},
   "source": [
    "mapping affordable neighbourhoods"
   ]
  },
  {
   "cell_type": "code",
   "execution_count": 57,
   "metadata": {},
   "outputs": [
    {
     "data": {
      "text/html": [
       "<div style=\"width:100%;\"><div style=\"position:relative;width:100%;height:0;padding-bottom:60%;\"><span style=\"color:#565656\">Make this Notebook Trusted to load map: File -> Trust Notebook</span><iframe src=\"about:blank\" style=\"position:absolute;width:100%;height:100%;left:0;top:0;border:none !important;\" data-html=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 onload=\"this.contentDocument.open();this.contentDocument.write(atob(this.getAttribute('data-html')));this.contentDocument.close();\" allowfullscreen webkitallowfullscreen mozallowfullscreen></iframe></div></div>"
      ],
      "text/plain": [
       "<folium.folium.Map at 0x7f200d4a8f98>"
      ]
     },
     "execution_count": 57,
     "metadata": {},
     "output_type": "execute_result"
    }
   ],
   "source": [
    "from folium.plugins import MarkerCluster\n",
    "\n",
    "map_halifax = folium.Map(location=[44.6388,-63.6552],zoom_start=12)\n",
    "\n",
    "marker_cluster = MarkerCluster().add_to(map_halifax)\n",
    "\n",
    "for lat,lng,neighbourhood, in zip(limit['Latitude'],limit['Longitude'],limit['Neighbourhood']):\n",
    "    label = '{}'.format(neighbourhood)\n",
    "    label = folium.Popup(label, parse_html=True)\n",
    "    folium.CircleMarker(\n",
    "    [lat,lng],\n",
    "    radius=5,\n",
    "    popup=label,\n",
    "    color='blue',\n",
    "    fill=True,\n",
    "    fill_color='#3186cc',\n",
    "    fill_opacity=0.7,\n",
    "    parse_html=False).add_to(marker_cluster)\n",
    "    \n",
    "\n",
    "    \n",
    "map_halifax"
   ]
  },
  {
   "cell_type": "markdown",
   "metadata": {},
   "source": [
    "From the map we can see that the three neighbourhoods with the most realestate availble are Halifax Bedford Basin, Halifax Central, and Halifax Upper Harbour. "
   ]
  },
  {
   "cell_type": "markdown",
   "metadata": {},
   "source": [
    "# Foursquare API "
   ]
  },
  {
   "cell_type": "code",
   "execution_count": 58,
   "metadata": {},
   "outputs": [
    {
     "name": "stdout",
     "output_type": "stream",
     "text": [
      "Your credentails:\n",
      "CLIENT_ID: DY2HIZLRO0VFRUS1TG1ZYA35OH2SXF1V34DDTYTBFOUGVZ15\n",
      "CLIENT_SECRET:G441KGLHQJQQCBEFI2EKE1E2PEALYMGGUPEA3PAP31Q0AHE5\n"
     ]
    }
   ],
   "source": [
    "CLIENT_ID = 'DY2HIZLRO0VFRUS1TG1ZYA35OH2SXF1V34DDTYTBFOUGVZ15'\n",
    "CLIENT_SECRET = 'G441KGLHQJQQCBEFI2EKE1E2PEALYMGGUPEA3PAP31Q0AHE5'\n",
    "VERSION = '20180605' \n",
    "LIMIT = 100 \n",
    "\n",
    "print('Your credentails:')\n",
    "print('CLIENT_ID: ' + CLIENT_ID)\n",
    "print('CLIENT_SECRET:' + CLIENT_SECRET)"
   ]
  },
  {
   "cell_type": "markdown",
   "metadata": {},
   "source": [
    "______________________________________________________________________"
   ]
  },
  {
   "cell_type": "markdown",
   "metadata": {},
   "source": [
    " Halifax Bedford Basin"
   ]
  },
  {
   "cell_type": "code",
   "execution_count": 59,
   "metadata": {},
   "outputs": [
    {
     "name": "stdout",
     "output_type": "stream",
     "text": [
      "Latitude and longitude values of Halifax Bedford Basin are 44.6809, -63.6947.\n"
     ]
    }
   ],
   "source": [
    "neighborhood_latitude = df.loc[0, 'Latitude'] # neighborhood latitude value\n",
    "neighborhood_longitude = df.loc[0, 'Longitude'] # neighborhood longitude value\n",
    "\n",
    "neighborhood_name = df.loc[0, 'Neighbourhood'] # neighborhood name\n",
    "\n",
    "print('Latitude and longitude values of {} are {}, {}.'.format(neighborhood_name, \n",
    "                                                               neighborhood_latitude, \n",
    "                                                               neighborhood_longitude))"
   ]
  },
  {
   "cell_type": "code",
   "execution_count": 60,
   "metadata": {},
   "outputs": [
    {
     "data": {
      "text/plain": [
       "'https://api.foursquare.com/v2/venues/explore?&client_id=DY2HIZLRO0VFRUS1TG1ZYA35OH2SXF1V34DDTYTBFOUGVZ15&client_secret=G441KGLHQJQQCBEFI2EKE1E2PEALYMGGUPEA3PAP31Q0AHE5&v=20180605&ll=44.6809,-63.6947&radius=500&limit=100'"
      ]
     },
     "execution_count": 60,
     "metadata": {},
     "output_type": "execute_result"
    }
   ],
   "source": [
    "LIMIT = 100 # limit of number of venues returned by Foursquare API\n",
    "\n",
    "radius = 500 # define radius\n",
    "\n",
    "url = 'https://api.foursquare.com/v2/venues/explore?&client_id={}&client_secret={}&v={}&ll={},{}&radius={}&limit={}'.format(\n",
    "    CLIENT_ID, \n",
    "    CLIENT_SECRET, \n",
    "    VERSION, \n",
    "    neighborhood_latitude, \n",
    "    neighborhood_longitude, \n",
    "    radius, \n",
    "    LIMIT)\n",
    "url # display URL"
   ]
  },
  {
   "cell_type": "markdown",
   "metadata": {},
   "source": [
    "0 venues retrieved by foursquare"
   ]
  },
  {
   "cell_type": "markdown",
   "metadata": {},
   "source": [
    "______________________________________________________________________"
   ]
  },
  {
   "cell_type": "markdown",
   "metadata": {},
   "source": [
    "Halifax Central"
   ]
  },
  {
   "cell_type": "code",
   "execution_count": 61,
   "metadata": {},
   "outputs": [
    {
     "name": "stdout",
     "output_type": "stream",
     "text": [
      "Latitude and longitude values of Halifax Central are 44.6511, -63.614.\n"
     ]
    }
   ],
   "source": [
    "neighborhood_latitude1 = df.loc[3, 'Latitude'] \n",
    "neighborhood_longitude1 = df.loc[3, 'Longitude'] \n",
    "\n",
    "neighborhood_name1 = df.loc[3, 'Neighbourhood']\n",
    "\n",
    "print('Latitude and longitude values of {} are {}, {}.'.format(neighborhood_name1, \n",
    "                                                               neighborhood_latitude1, \n",
    "                                                               neighborhood_longitude1))"
   ]
  },
  {
   "cell_type": "code",
   "execution_count": 62,
   "metadata": {},
   "outputs": [
    {
     "data": {
      "text/plain": [
       "'https://api.foursquare.com/v2/venues/explore?&client_id=DY2HIZLRO0VFRUS1TG1ZYA35OH2SXF1V34DDTYTBFOUGVZ15&client_secret=G441KGLHQJQQCBEFI2EKE1E2PEALYMGGUPEA3PAP31Q0AHE5&v=20180605&ll=44.6511,-63.614&radius=500&limit=100'"
      ]
     },
     "execution_count": 62,
     "metadata": {},
     "output_type": "execute_result"
    }
   ],
   "source": [
    "LIMIT = 100 # limit of number of venues returned by Foursquare API\n",
    "\n",
    "radius = 500 # define radius\n",
    "\n",
    "url1 = 'https://api.foursquare.com/v2/venues/explore?&client_id={}&client_secret={}&v={}&ll={},{}&radius={}&limit={}'.format(\n",
    "    CLIENT_ID, \n",
    "    CLIENT_SECRET, \n",
    "    VERSION, \n",
    "    neighborhood_latitude1, \n",
    "    neighborhood_longitude1, \n",
    "    radius, \n",
    "    LIMIT)\n",
    "url1 # display URL"
   ]
  },
  {
   "cell_type": "code",
   "execution_count": 63,
   "metadata": {},
   "outputs": [],
   "source": [
    "results1 = requests.get(url1).json()"
   ]
  },
  {
   "cell_type": "code",
   "execution_count": 64,
   "metadata": {},
   "outputs": [],
   "source": [
    "def get_category_type(row):\n",
    "    try:\n",
    "        categories_list = row['categories']\n",
    "    except:\n",
    "        categories_list = row['venue.categories']\n",
    "        \n",
    "    if len(categories_list) == 0:\n",
    "        return None\n",
    "    else:\n",
    "        return categories_list[0]['name']"
   ]
  },
  {
   "cell_type": "code",
   "execution_count": 65,
   "metadata": {},
   "outputs": [
    {
     "name": "stderr",
     "output_type": "stream",
     "text": [
      "/home/jupyterlab/conda/envs/python/lib/python3.6/site-packages/ipykernel_launcher.py:3: FutureWarning: pandas.io.json.json_normalize is deprecated, use pandas.json_normalize instead\n",
      "  This is separate from the ipykernel package so we can avoid doing imports until\n"
     ]
    },
    {
     "data": {
      "text/html": [
       "<div>\n",
       "<style scoped>\n",
       "    .dataframe tbody tr th:only-of-type {\n",
       "        vertical-align: middle;\n",
       "    }\n",
       "\n",
       "    .dataframe tbody tr th {\n",
       "        vertical-align: top;\n",
       "    }\n",
       "\n",
       "    .dataframe thead th {\n",
       "        text-align: right;\n",
       "    }\n",
       "</style>\n",
       "<table border=\"1\" class=\"dataframe\">\n",
       "  <thead>\n",
       "    <tr style=\"text-align: right;\">\n",
       "      <th></th>\n",
       "      <th>name</th>\n",
       "      <th>categories</th>\n",
       "      <th>lat</th>\n",
       "      <th>lng</th>\n",
       "    </tr>\n",
       "  </thead>\n",
       "  <tbody>\n",
       "    <tr>\n",
       "      <th>0</th>\n",
       "      <td>Apple Halifax Shopping Centre</td>\n",
       "      <td>Electronics Store</td>\n",
       "      <td>44.649197</td>\n",
       "      <td>-63.618668</td>\n",
       "    </tr>\n",
       "    <tr>\n",
       "      <th>1</th>\n",
       "      <td>Victoria's Secret</td>\n",
       "      <td>Lingerie Store</td>\n",
       "      <td>44.648994</td>\n",
       "      <td>-63.618365</td>\n",
       "    </tr>\n",
       "    <tr>\n",
       "      <th>2</th>\n",
       "      <td>Thai Express</td>\n",
       "      <td>Restaurant</td>\n",
       "      <td>44.649249</td>\n",
       "      <td>-63.618682</td>\n",
       "    </tr>\n",
       "    <tr>\n",
       "      <th>3</th>\n",
       "      <td>Halifax Shopping Centre</td>\n",
       "      <td>Shopping Mall</td>\n",
       "      <td>44.649104</td>\n",
       "      <td>-63.618127</td>\n",
       "    </tr>\n",
       "    <tr>\n",
       "      <th>4</th>\n",
       "      <td>SEPHORA</td>\n",
       "      <td>Cosmetics Shop</td>\n",
       "      <td>44.649288</td>\n",
       "      <td>-63.618325</td>\n",
       "    </tr>\n",
       "  </tbody>\n",
       "</table>\n",
       "</div>"
      ],
      "text/plain": [
       "                            name         categories        lat        lng\n",
       "0  Apple Halifax Shopping Centre  Electronics Store  44.649197 -63.618668\n",
       "1              Victoria's Secret     Lingerie Store  44.648994 -63.618365\n",
       "2                   Thai Express         Restaurant  44.649249 -63.618682\n",
       "3        Halifax Shopping Centre      Shopping Mall  44.649104 -63.618127\n",
       "4                        SEPHORA     Cosmetics Shop  44.649288 -63.618325"
      ]
     },
     "execution_count": 65,
     "metadata": {},
     "output_type": "execute_result"
    }
   ],
   "source": [
    "venues1 = results1['response']['groups'][0]['items']\n",
    "    \n",
    "nearby_venues1 = json_normalize(venues1) # flatten JSON\n",
    "\n",
    "# filter columns\n",
    "filtered_columns1 = ['venue.name', 'venue.categories', 'venue.location.lat', 'venue.location.lng']\n",
    "nearby_venues1 =nearby_venues1.loc[:, filtered_columns1]\n",
    "\n",
    "# filter the category for each row\n",
    "nearby_venues1['venue.categories'] = nearby_venues1.apply(get_category_type, axis=1)\n",
    "\n",
    "# clean columns\n",
    "nearby_venues1.columns = [col.split(\".\")[-1] for col in nearby_venues1.columns]\n",
    "\n",
    "nearby_venues1.head()"
   ]
  },
  {
   "cell_type": "code",
   "execution_count": 66,
   "metadata": {},
   "outputs": [
    {
     "name": "stdout",
     "output_type": "stream",
     "text": [
      "29 venues were returned by Foursquare.\n"
     ]
    }
   ],
   "source": [
    "print('{} venues were returned by Foursquare.'.format(nearby_venues1.shape[0]))"
   ]
  },
  {
   "cell_type": "markdown",
   "metadata": {},
   "source": [
    "Finding resutrants and cafes"
   ]
  },
  {
   "cell_type": "code",
   "execution_count": 67,
   "metadata": {},
   "outputs": [
    {
     "name": "stdout",
     "output_type": "stream",
     "text": [
      "Coffee Shop             4\n",
      "Fast Food Restaurant    3\n",
      "Restaurant              3\n",
      "Shoe Store              2\n",
      "Bookstore               1\n",
      "Video Game Store        1\n",
      "Jewelry Store           1\n",
      "Sporting Goods Shop     1\n",
      "Luggage Store           1\n",
      "Lingerie Store          1\n",
      "Japanese Restaurant     1\n",
      "Food Court              1\n",
      "Cosmetics Shop          1\n",
      "Electronics Store       1\n",
      "Clothing Store          1\n",
      "Shopping Mall           1\n",
      "Chinese Restaurant      1\n",
      "Ice Cream Shop          1\n",
      "Sandwich Place          1\n",
      "Diner                   1\n",
      "Pharmacy                1\n",
      "Name: categories, dtype: int64\n"
     ]
    }
   ],
   "source": [
    "count = nearby_venues1['categories'].value_counts()\n",
    "print(count)"
   ]
  },
  {
   "cell_type": "code",
   "execution_count": 71,
   "metadata": {},
   "outputs": [
    {
     "data": {
      "text/html": [
       "<div style=\"width:100%;\"><div style=\"position:relative;width:100%;height:0;padding-bottom:60%;\"><span style=\"color:#565656\">Make this Notebook Trusted to load map: File -> Trust Notebook</span><iframe src=\"about:blank\" style=\"position:absolute;width:100%;height:100%;left:0;top:0;border:none !important;\" data-html=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 onload=\"this.contentDocument.open();this.contentDocument.write(atob(this.getAttribute('data-html')));this.contentDocument.close();\" allowfullscreen webkitallowfullscreen mozallowfullscreen></iframe></div></div>"
      ],
      "text/plain": [
       "<folium.folium.Map at 0x7f200d2a5550>"
      ]
     },
     "execution_count": 71,
     "metadata": {},
     "output_type": "execute_result"
    }
   ],
   "source": [
    "\n",
    "map_central = folium.Map(location=[44.6511, -63.614], zoom_start=15)\n",
    "\n",
    "# add markers to map\n",
    "for lat, lng, label in zip(nearby_venues1['lat'], nearby_venues1['lng'], nearby_venues1['name']):\n",
    "    label = folium.Popup(label, parse_html=True)\n",
    "    folium.CircleMarker(\n",
    "        [lat, lng],\n",
    "        radius=5,\n",
    "        popup=label,\n",
    "        color='blue',\n",
    "        fill=True,\n",
    "        fill_color='#3186cc',\n",
    "        fill_opacity=0.7,\n",
    "        parse_html=False).add_to(map_central)  \n",
    "    \n",
    "map_central"
   ]
  },
  {
   "cell_type": "markdown",
   "metadata": {},
   "source": [
    "______________________________________________________________________"
   ]
  },
  {
   "cell_type": "markdown",
   "metadata": {},
   "source": [
    "Halifax Upper Harbour"
   ]
  },
  {
   "cell_type": "code",
   "execution_count": 31,
   "metadata": {},
   "outputs": [
    {
     "name": "stdout",
     "output_type": "stream",
     "text": [
      "Latitude and longitude values of Halifax Upper Harbour are 44.6602, -63.601000000000006.\n"
     ]
    }
   ],
   "source": [
    "neighborhood_latitude2 = df.loc[5, 'Latitude'] \n",
    "neighborhood_longitude2 = df.loc[5, 'Longitude'] \n",
    "\n",
    "neighborhood_name2 = df.loc[5, 'Neighbourhood'] \n",
    "\n",
    "print('Latitude and longitude values of {} are {}, {}.'.format(neighborhood_name2, \n",
    "                                                               neighborhood_latitude2, \n",
    "                                                               neighborhood_longitude2))"
   ]
  },
  {
   "cell_type": "code",
   "execution_count": 32,
   "metadata": {},
   "outputs": [
    {
     "data": {
      "text/plain": [
       "'https://api.foursquare.com/v2/venues/explore?&client_id=DY2HIZLRO0VFRUS1TG1ZYA35OH2SXF1V34DDTYTBFOUGVZ15&client_secret=G441KGLHQJQQCBEFI2EKE1E2PEALYMGGUPEA3PAP31Q0AHE5&v=20180605&ll=44.6602,-63.601000000000006&radius=500&limit=100'"
      ]
     },
     "execution_count": 32,
     "metadata": {},
     "output_type": "execute_result"
    }
   ],
   "source": [
    "LIMIT = 100 # limit of number of venues returned by Foursquare API\n",
    "\n",
    "radius = 500 # define radius\n",
    "\n",
    "url = 'https://api.foursquare.com/v2/venues/explore?&client_id={}&client_secret={}&v={}&ll={},{}&radius={}&limit={}'.format(\n",
    "    CLIENT_ID, \n",
    "    CLIENT_SECRET, \n",
    "    VERSION, \n",
    "    neighborhood_latitude2, \n",
    "    neighborhood_longitude2, \n",
    "    radius, \n",
    "    LIMIT)\n",
    "url # display URL"
   ]
  },
  {
   "cell_type": "code",
   "execution_count": 33,
   "metadata": {},
   "outputs": [],
   "source": [
    "results2 = requests.get(url).json()"
   ]
  },
  {
   "cell_type": "code",
   "execution_count": 34,
   "metadata": {},
   "outputs": [],
   "source": [
    "def get_category_type(row):\n",
    "    try:\n",
    "        categories_list = row['categories']\n",
    "    except:\n",
    "        categories_list = row['venue.categories']\n",
    "        \n",
    "    if len(categories_list) == 0:\n",
    "        return None\n",
    "    else:\n",
    "        return categories_list[0]['name']"
   ]
  },
  {
   "cell_type": "code",
   "execution_count": 35,
   "metadata": {},
   "outputs": [
    {
     "name": "stderr",
     "output_type": "stream",
     "text": [
      "/home/jupyterlab/conda/envs/python/lib/python3.6/site-packages/ipykernel_launcher.py:3: FutureWarning: pandas.io.json.json_normalize is deprecated, use pandas.json_normalize instead\n",
      "  This is separate from the ipykernel package so we can avoid doing imports until\n"
     ]
    },
    {
     "data": {
      "text/html": [
       "<div>\n",
       "<style scoped>\n",
       "    .dataframe tbody tr th:only-of-type {\n",
       "        vertical-align: middle;\n",
       "    }\n",
       "\n",
       "    .dataframe tbody tr th {\n",
       "        vertical-align: top;\n",
       "    }\n",
       "\n",
       "    .dataframe thead th {\n",
       "        text-align: right;\n",
       "    }\n",
       "</style>\n",
       "<table border=\"1\" class=\"dataframe\">\n",
       "  <thead>\n",
       "    <tr style=\"text-align: right;\">\n",
       "      <th></th>\n",
       "      <th>name</th>\n",
       "      <th>categories</th>\n",
       "      <th>lat</th>\n",
       "      <th>lng</th>\n",
       "    </tr>\n",
       "  </thead>\n",
       "  <tbody>\n",
       "    <tr>\n",
       "      <th>0</th>\n",
       "      <td>Tarek's Cafe</td>\n",
       "      <td>Middle Eastern Restaurant</td>\n",
       "      <td>44.659183</td>\n",
       "      <td>-63.600927</td>\n",
       "    </tr>\n",
       "    <tr>\n",
       "      <th>1</th>\n",
       "      <td>Burrito Jax</td>\n",
       "      <td>Burrito Place</td>\n",
       "      <td>44.659463</td>\n",
       "      <td>-63.603505</td>\n",
       "    </tr>\n",
       "    <tr>\n",
       "      <th>2</th>\n",
       "      <td>The Italian Market</td>\n",
       "      <td>Italian Restaurant</td>\n",
       "      <td>44.658999</td>\n",
       "      <td>-63.604049</td>\n",
       "    </tr>\n",
       "    <tr>\n",
       "      <th>3</th>\n",
       "      <td>Hamachi Kita Sushi &amp; Asian Flare</td>\n",
       "      <td>Sushi Restaurant</td>\n",
       "      <td>44.661938</td>\n",
       "      <td>-63.599275</td>\n",
       "    </tr>\n",
       "    <tr>\n",
       "      <th>4</th>\n",
       "      <td>Humani-T Cafe</td>\n",
       "      <td>Café</td>\n",
       "      <td>44.660650</td>\n",
       "      <td>-63.601440</td>\n",
       "    </tr>\n",
       "  </tbody>\n",
       "</table>\n",
       "</div>"
      ],
      "text/plain": [
       "                               name                 categories        lat  \\\n",
       "0                      Tarek's Cafe  Middle Eastern Restaurant  44.659183   \n",
       "1                       Burrito Jax              Burrito Place  44.659463   \n",
       "2                The Italian Market         Italian Restaurant  44.658999   \n",
       "3  Hamachi Kita Sushi & Asian Flare           Sushi Restaurant  44.661938   \n",
       "4                     Humani-T Cafe                       Café  44.660650   \n",
       "\n",
       "         lng  \n",
       "0 -63.600927  \n",
       "1 -63.603505  \n",
       "2 -63.604049  \n",
       "3 -63.599275  \n",
       "4 -63.601440  "
      ]
     },
     "execution_count": 35,
     "metadata": {},
     "output_type": "execute_result"
    }
   ],
   "source": [
    "venues2 = results2['response']['groups'][0]['items']\n",
    "    \n",
    "nearby_venues2 = json_normalize(venues2) # flatten JSON\n",
    "\n",
    "# filter columns\n",
    "filtered_columns2 = ['venue.name', 'venue.categories', 'venue.location.lat', 'venue.location.lng']\n",
    "nearby_venues2 =nearby_venues2.loc[:, filtered_columns2]\n",
    "\n",
    "# filter the category for each row\n",
    "nearby_venues2['venue.categories'] = nearby_venues2.apply(get_category_type, axis=1)\n",
    "\n",
    "# clean columns\n",
    "nearby_venues2.columns = [col.split(\".\")[-1] for col in nearby_venues2.columns]\n",
    "\n",
    "nearby_venues2.head()"
   ]
  },
  {
   "cell_type": "code",
   "execution_count": 36,
   "metadata": {},
   "outputs": [
    {
     "name": "stdout",
     "output_type": "stream",
     "text": [
      "32 venues were returned by Foursquare.\n"
     ]
    }
   ],
   "source": [
    "print('{} venues were returned by Foursquare.'.format(nearby_venues2.shape[0]))"
   ]
  },
  {
   "cell_type": "code",
   "execution_count": 37,
   "metadata": {},
   "outputs": [
    {
     "name": "stdout",
     "output_type": "stream",
     "text": [
      "Pizza Place                  2\n",
      "Sandwich Place               2\n",
      "Middle Eastern Restaurant    2\n",
      "Breakfast Spot               2\n",
      "Coffee Shop                  2\n",
      "Chinese Restaurant           1\n",
      "Bank                         1\n",
      "Café                         1\n",
      "Bakery                       1\n",
      "Toy / Game Store             1\n",
      "Steakhouse                   1\n",
      "Gourmet Shop                 1\n",
      "Sushi Restaurant             1\n",
      "Grocery Store                1\n",
      "Asian Restaurant             1\n",
      "Burrito Place                1\n",
      "Pub                          1\n",
      "Fast Food Restaurant         1\n",
      "Brewery                      1\n",
      "Park                         1\n",
      "Caribbean Restaurant         1\n",
      "Italian Restaurant           1\n",
      "Seafood Restaurant           1\n",
      "Pharmacy                     1\n",
      "Health & Beauty Service      1\n",
      "Deli / Bodega                1\n",
      "Discount Store               1\n",
      "Name: categories, dtype: int64\n"
     ]
    }
   ],
   "source": [
    "count1 = nearby_venues2['categories'].value_counts()\n",
    "print(count1)"
   ]
  },
  {
   "cell_type": "code",
   "execution_count": 74,
   "metadata": {},
   "outputs": [
    {
     "data": {
      "text/html": [
       "<div style=\"width:100%;\"><div style=\"position:relative;width:100%;height:0;padding-bottom:60%;\"><span style=\"color:#565656\">Make this Notebook Trusted to load map: File -> Trust Notebook</span><iframe src=\"about:blank\" style=\"position:absolute;width:100%;height:100%;left:0;top:0;border:none !important;\" data-html=PCFET0NUWVBFIGh0bWw+CjxoZWFkPiAgICAKICAgIDxtZXRhIGh0dHAtZXF1aXY9ImNvbnRlbnQtdHlwZSIgY29udGVudD0idGV4dC9odG1sOyBjaGFyc2V0PVVURi04IiAvPgogICAgPHNjcmlwdD5MX1BSRUZFUl9DQU5WQVMgPSBmYWxzZTsgTF9OT19UT1VDSCA9IGZhbHNlOyBMX0RJU0FCTEVfM0QgPSBmYWxzZTs8L3NjcmlwdD4KICAgIDxzY3JpcHQgc3JjPSJodHRwczovL2Nkbi5qc2RlbGl2ci5uZXQvbnBtL2xlYWZsZXRAMS4yLjAvZGlzdC9sZWFmbGV0LmpzIj48L3NjcmlwdD4KICAgIDxzY3JpcHQgc3JjPSJodHRwczovL2FqYXguZ29vZ2xlYXBpcy5jb20vYWpheC9saWJzL2pxdWVyeS8xLjExLjEvanF1ZXJ5Lm1pbi5qcyI+PC9zY3JpcHQ+CiAgICA8c2NyaXB0IHNyYz0iaHR0cHM6Ly9tYXhjZG4uYm9vdHN0cmFwY2RuLmNvbS9ib290c3RyYXAvMy4yLjAvanMvYm9vdHN0cmFwLm1pbi5qcyI+PC9zY3JpcHQ+CiAgICA8c2NyaXB0IHNyYz0iaHR0cHM6Ly9jZG5qcy5jbG91ZGZsYXJlLmNvbS9hamF4L2xpYnMvTGVhZmxldC5hd2Vzb21lLW1hcmtlcnMvMi4wLjIvbGVhZmxldC5hd2Vzb21lLW1hcmtlcnMuanMiPjwvc2NyaXB0PgogICAgPGxpbmsgcmVsPSJzdHlsZXNoZWV0IiBocmVmPSJodHRwczovL2Nkbi5qc2RlbGl2ci5uZXQvbnBtL2xlYWZsZXRAMS4yLjAvZGlzdC9sZWFmbGV0LmNzcyIvPgogICAgPGxpbmsgcmVsPSJzdHlsZXNoZWV0IiBocmVmPSJodHRwczovL21heGNkbi5ib290c3RyYXBjZG4uY29tL2Jvb3RzdHJhcC8zLjIuMC9jc3MvYm9vdHN0cmFwLm1pbi5jc3MiLz4KICAgIDxsaW5rIHJlbD0ic3R5bGVzaGVldCIgaHJlZj0iaHR0cHM6Ly9tYXhjZG4uYm9vdHN0cmFwY2RuLmNvbS9ib290c3RyYXAvMy4yLjAvY3NzL2Jvb3RzdHJhcC10aGVtZS5taW4uY3NzIi8+CiAgICA8bGluayByZWw9InN0eWxlc2hlZXQiIGhyZWY9Imh0dHBzOi8vbWF4Y2RuLmJvb3RzdHJhcGNkbi5jb20vZm9udC1hd2Vzb21lLzQuNi4zL2Nzcy9mb250LWF3ZXNvbWUubWluLmNzcyIvPgogICAgPGxpbmsgcmVsPSJzdHlsZXNoZWV0IiBocmVmPSJodHRwczovL2NkbmpzLmNsb3VkZmxhcmUuY29tL2FqYXgvbGlicy9MZWFmbGV0LmF3ZXNvbWUtbWFya2Vycy8yLjAuMi9sZWFmbGV0LmF3ZXNvbWUtbWFya2Vycy5jc3MiLz4KICAgIDxsaW5rIHJlbD0ic3R5bGVzaGVldCIgaHJlZj0iaHR0cHM6Ly9yYXdnaXQuY29tL3B5dGhvbi12aXN1YWxpemF0aW9uL2ZvbGl1bS9tYXN0ZXIvZm9saXVtL3RlbXBsYXRlcy9sZWFmbGV0LmF3ZXNvbWUucm90YXRlLmNzcyIvPgogICAgPHN0eWxlPmh0bWwsIGJvZHkge3dpZHRoOiAxMDAlO2hlaWdodDogMTAwJTttYXJnaW46IDA7cGFkZGluZzogMDt9PC9zdHlsZT4KICAgIDxzdHlsZT4jbWFwIHtwb3NpdGlvbjphYnNvbHV0ZTt0b3A6MDtib3R0b206MDtyaWdodDowO2xlZnQ6MDt9PC9zdHlsZT4KICAgIAogICAgICAgICAgICA8c3R5bGU+ICNtYXBfYzY3ZGMyZjM3OTczNDRjYzg1MzIwNzg0ODFkMjk1YTUgewogICAgICAgICAgICAgICAgcG9zaXRpb24gOiByZWxhdGl2ZTsKICAgICAgICAgICAgICAgIHdpZHRoIDogMTAwLjAlOwogICAgICAgICAgICAgICAgaGVpZ2h0OiAxMDAuMCU7CiAgICAgICAgICAgICAgICBsZWZ0OiAwLjAlOwogICAgICAgICAgICAgICAgdG9wOiAwLjAlOwogICAgICAgICAgICAgICAgfQogICAgICAgICAgICA8L3N0eWxlPgogICAgICAgIAo8L2hlYWQ+Cjxib2R5PiAgICAKICAgIAogICAgICAgICAgICA8ZGl2IGNsYXNzPSJmb2xpdW0tbWFwIiBpZD0ibWFwX2M2N2RjMmYzNzk3MzQ0Y2M4NTMyMDc4NDgxZDI5NWE1IiA+PC9kaXY+CiAgICAgICAgCjwvYm9keT4KPHNjcmlwdD4gICAgCiAgICAKCiAgICAgICAgICAgIAogICAgICAgICAgICAgICAgdmFyIGJvdW5kcyA9IG51bGw7CiAgICAgICAgICAgIAoKICAgICAgICAgICAgdmFyIG1hcF9jNjdkYzJmMzc5NzM0NGNjODUzMjA3ODQ4MWQyOTVhNSA9IEwubWFwKAogICAgICAgICAgICAgICAgICAgICAgICAgICAgICAgICAgJ21hcF9jNjdkYzJmMzc5NzM0NGNjODUzMjA3ODQ4MWQyOTVhNScsCiAgICAgICAgICAgICAgICAgICAgICAgICAgICAgICAgICB7Y2VudGVyOiBbNDQuNjYwMiwtNjMuNjAxMDAwMDAwMDAwMDA2XSwKICAgICAgICAgICAgICAgICAgICAgICAgICAgICAgICAgIHpvb206IDE2LAogICAgICAgICAgICAgICAgICAgICAgICAgICAgICAgICAgbWF4Qm91bmRzOiBib3VuZHMsCiAgICAgICAgICAgICAgICAgICAgICAgICAgICAgICAgICBsYXllcnM6IFtdLAogICAgICAgICAgICAgICAgICAgICAgICAgICAgICAgICAgd29ybGRDb3B5SnVtcDogZmFsc2UsCiAgICAgICAgICAgICAgICAgICAgICAgICAgICAgICAgICBjcnM6IEwuQ1JTLkVQU0czODU3CiAgICAgICAgICAgICAgICAgICAgICAgICAgICAgICAgIH0pOwogICAgICAgICAgICAKICAgICAgICAKICAgIAogICAgICAgICAgICB2YXIgdGlsZV9sYXllcl9iNTFjZTNjNGUxY2I0YjBiOGI0M2ZkNWE2NzgwYzE4YSA9IEwudGlsZUxheWVyKAogICAgICAgICAgICAgICAgJ2h0dHBzOi8ve3N9LnRpbGUub3BlbnN0cmVldG1hcC5vcmcve3p9L3t4fS97eX0ucG5nJywKICAgICAgICAgICAgICAgIHsKICAiYXR0cmlidXRpb24iOiBudWxsLAogICJkZXRlY3RSZXRpbmEiOiBmYWxzZSwKICAibWF4Wm9vbSI6IDE4LAogICJtaW5ab29tIjogMSwKICAibm9XcmFwIjogZmFsc2UsCiAgInN1YmRvbWFpbnMiOiAiYWJjIgp9CiAgICAgICAgICAgICAgICApLmFkZFRvKG1hcF9jNjdkYzJmMzc5NzM0NGNjODUzMjA3ODQ4MWQyOTVhNSk7CiAgICAgICAgCiAgICAKICAgICAgICAgICAgdmFyIGNpcmNsZV9tYXJrZXJfNDY2OWU2YzBjNmEzNGY1YTgzMmVhMzIwYTY3YjFkNGYgPSBMLmNpcmNsZU1hcmtlcigKICAgICAgICAgICAgICAgIFs0NC42NTkxODI3MzMxODkzMiwtNjMuNjAwOTI2NTg0ODIxNDZdLAogICAgICAgICAgICAgICAgewogICJidWJibGluZ01vdXNlRXZlbnRzIjogdHJ1ZSwKICAiY29sb3IiOiAiYmx1ZSIsCiAgImRhc2hBcnJheSI6IG51bGwsCiAgImRhc2hPZmZzZXQiOiBudWxsLAogICJmaWxsIjogdHJ1ZSwKICAiZmlsbENvbG9yIjogIiMzMTg2Y2MiLAogICJmaWxsT3BhY2l0eSI6IDAuNywKICAiZmlsbFJ1bGUiOiAiZXZlbm9kZCIsCiAgImxpbmVDYXAiOiAicm91bmQiLAogICJsaW5lSm9pbiI6ICJyb3VuZCIsCiAgIm9wYWNpdHkiOiAxLjAsCiAgInJhZGl1cyI6IDUsCiAgInN0cm9rZSI6IHRydWUsCiAgIndlaWdodCI6IDMKfQogICAgICAgICAgICAgICAgKS5hZGRUbyhtYXBfYzY3ZGMyZjM3OTczNDRjYzg1MzIwNzg0ODFkMjk1YTUpOwogICAgICAgICAgICAKICAgIAogICAgICAgICAgICB2YXIgcG9wdXBfYjFiYjQ0ZTVlYTlkNDk4YzhlNzdkYjEwZDE0OTY4ZjUgPSBMLnBvcHVwKHttYXhXaWR0aDogJzMwMCd9KTsKCiAgICAgICAgICAgIAogICAgICAgICAgICAgICAgdmFyIGh0bWxfOTE2MzAwY2JmN2ZmNGY1YWI5NmUxNDI5NTEwZTI3ODEgPSAkKCc8ZGl2IGlkPSJodG1sXzkxNjMwMGNiZjdmZjRmNWFiOTZlMTQyOTUxMGUyNzgxIiBzdHlsZT0id2lkdGg6IDEwMC4wJTsgaGVpZ2h0OiAxMDAuMCU7Ij5UYXJlayYjMzk7cyBDYWZlPC9kaXY+JylbMF07CiAgICAgICAgICAgICAgICBwb3B1cF9iMWJiNDRlNWVhOWQ0OThjOGU3N2RiMTBkMTQ5NjhmNS5zZXRDb250ZW50KGh0bWxfOTE2MzAwY2JmN2ZmNGY1YWI5NmUxNDI5NTEwZTI3ODEpOwogICAgICAgICAgICAKCiAgICAgICAgICAgIGNpcmNsZV9tYXJrZXJfNDY2OWU2YzBjNmEzNGY1YTgzMmVhMzIwYTY3YjFkNGYuYmluZFBvcHVwKHBvcHVwX2IxYmI0NGU1ZWE5ZDQ5OGM4ZTc3ZGIxMGQxNDk2OGY1KTsKCiAgICAgICAgICAgIAogICAgICAgIAogICAgCiAgICAgICAgICAgIHZhciBjaXJjbGVfbWFya2VyX2YzNWNmYmM1Y2Y0ZDQ4MTBhZThjZTRlODYxYTlmNGFhID0gTC5jaXJjbGVNYXJrZXIoCiAgICAgICAgICAgICAgICBbNDQuNjU5NDYzMjc0MjY2NDgsLTYzLjYwMzUwNDk3NjExNzUzXSwKICAgICAgICAgICAgICAgIHsKICAiYnViYmxpbmdNb3VzZUV2ZW50cyI6IHRydWUsCiAgImNvbG9yIjogImJsdWUiLAogICJkYXNoQXJyYXkiOiBudWxsLAogICJkYXNoT2Zmc2V0IjogbnVsbCwKICAiZmlsbCI6IHRydWUsCiAgImZpbGxDb2xvciI6ICIjMzE4NmNjIiwKICAiZmlsbE9wYWNpdHkiOiAwLjcsCiAgImZpbGxSdWxlIjogImV2ZW5vZGQiLAogICJsaW5lQ2FwIjogInJvdW5kIiwKICAibGluZUpvaW4iOiAicm91bmQiLAogICJvcGFjaXR5IjogMS4wLAogICJyYWRpdXMiOiA1LAogICJzdHJva2UiOiB0cnVlLAogICJ3ZWlnaHQiOiAzCn0KICAgICAgICAgICAgICAgICkuYWRkVG8obWFwX2M2N2RjMmYzNzk3MzQ0Y2M4NTMyMDc4NDgxZDI5NWE1KTsKICAgICAgICAgICAgCiAgICAKICAgICAgICAgICAgdmFyIHBvcHVwXzZjNjU2ZjY4MDAzYTQ1MDM4ZjNmNGI2NjA3MGY2OTgzID0gTC5wb3B1cCh7bWF4V2lkdGg6ICczMDAnfSk7CgogICAgICAgICAgICAKICAgICAgICAgICAgICAgIHZhciBodG1sXzNiZmI0YjI3NjE3NzQ5NGNhODU5MTUzZTYzYmFhZTUzID0gJCgnPGRpdiBpZD0iaHRtbF8zYmZiNGIyNzYxNzc0OTRjYTg1OTE1M2U2M2JhYWU1MyIgc3R5bGU9IndpZHRoOiAxMDAuMCU7IGhlaWdodDogMTAwLjAlOyI+QnVycml0byBKYXg8L2Rpdj4nKVswXTsKICAgICAgICAgICAgICAgIHBvcHVwXzZjNjU2ZjY4MDAzYTQ1MDM4ZjNmNGI2NjA3MGY2OTgzLnNldENvbnRlbnQoaHRtbF8zYmZiNGIyNzYxNzc0OTRjYTg1OTE1M2U2M2JhYWU1Myk7CiAgICAgICAgICAgIAoKICAgICAgICAgICAgY2lyY2xlX21hcmtlcl9mMzVjZmJjNWNmNGQ0ODEwYWU4Y2U0ZTg2MWE5ZjRhYS5iaW5kUG9wdXAocG9wdXBfNmM2NTZmNjgwMDNhNDUwMzhmM2Y0YjY2MDcwZjY5ODMpOwoKICAgICAgICAgICAgCiAgICAgICAgCiAgICAKICAgICAgICAgICAgdmFyIGNpcmNsZV9tYXJrZXJfYTlmZTFhOTExNzc2NGNmYmEyYTUxN2QxMDM3NzNkZTkgPSBMLmNpcmNsZU1hcmtlcigKICAgICAgICAgICAgICAgIFs0NC42NTg5OTkyODE0NTk5LC02My42MDQwNDg1NDczMzY4OV0sCiAgICAgICAgICAgICAgICB7CiAgImJ1YmJsaW5nTW91c2VFdmVudHMiOiB0cnVlLAogICJjb2xvciI6ICJibHVlIiwKICAiZGFzaEFycmF5IjogbnVsbCwKICAiZGFzaE9mZnNldCI6IG51bGwsCiAgImZpbGwiOiB0cnVlLAogICJmaWxsQ29sb3IiOiAiIzMxODZjYyIsCiAgImZpbGxPcGFjaXR5IjogMC43LAogICJmaWxsUnVsZSI6ICJldmVub2RkIiwKICAibGluZUNhcCI6ICJyb3VuZCIsCiAgImxpbmVKb2luIjogInJvdW5kIiwKICAib3BhY2l0eSI6IDEuMCwKICAicmFkaXVzIjogNSwKICAic3Ryb2tlIjogdHJ1ZSwKICAid2VpZ2h0IjogMwp9CiAgICAgICAgICAgICAgICApLmFkZFRvKG1hcF9jNjdkYzJmMzc5NzM0NGNjODUzMjA3ODQ4MWQyOTVhNSk7CiAgICAgICAgICAgIAogICAgCiAgICAgICAgICAgIHZhciBwb3B1cF84MTY1MWRmM2I5YjY0YjM4OWVkMmFiYzIxZDI3OTM5NCA9IEwucG9wdXAoe21heFdpZHRoOiAnMzAwJ30pOwoKICAgICAgICAgICAgCiAgICAgICAgICAgICAgICB2YXIgaHRtbF85MzhiMzU2MTc0ZGY0ODJjOGRhYjhkYjY4MDY2ODk5NSA9ICQoJzxkaXYgaWQ9Imh0bWxfOTM4YjM1NjE3NGRmNDgyYzhkYWI4ZGI2ODA2Njg5OTUiIHN0eWxlPSJ3aWR0aDogMTAwLjAlOyBoZWlnaHQ6IDEwMC4wJTsiPlRoZSBJdGFsaWFuIE1hcmtldDwvZGl2PicpWzBdOwogICAgICAgICAgICAgICAgcG9wdXBfODE2NTFkZjNiOWI2NGIzODllZDJhYmMyMWQyNzkzOTQuc2V0Q29udGVudChodG1sXzkzOGIzNTYxNzRkZjQ4MmM4ZGFiOGRiNjgwNjY4OTk1KTsKICAgICAgICAgICAgCgogICAgICAgICAgICBjaXJjbGVfbWFya2VyX2E5ZmUxYTkxMTc3NjRjZmJhMmE1MTdkMTAzNzczZGU5LmJpbmRQb3B1cChwb3B1cF84MTY1MWRmM2I5YjY0YjM4OWVkMmFiYzIxZDI3OTM5NCk7CgogICAgICAgICAgICAKICAgICAgICAKICAgIAogICAgICAgICAgICB2YXIgY2lyY2xlX21hcmtlcl81NTc1ZjkzNGY5OTU0N2UzOTk0NTdiMjdmNTA0OTRhNCA9IEwuY2lyY2xlTWFya2VyKAogICAgICAgICAgICAgICAgWzQ0LjY2MTkzODA4MDg1NTQ1LC02My41OTkyNzUwODgyMzE4MDZdLAogICAgICAgICAgICAgICAgewogICJidWJibGluZ01vdXNlRXZlbnRzIjogdHJ1ZSwKICAiY29sb3IiOiAiYmx1ZSIsCiAgImRhc2hBcnJheSI6IG51bGwsCiAgImRhc2hPZmZzZXQiOiBudWxsLAogICJmaWxsIjogdHJ1ZSwKICAiZmlsbENvbG9yIjogIiMzMTg2Y2MiLAogICJmaWxsT3BhY2l0eSI6IDAuNywKICAiZmlsbFJ1bGUiOiAiZXZlbm9kZCIsCiAgImxpbmVDYXAiOiAicm91bmQiLAogICJsaW5lSm9pbiI6ICJyb3VuZCIsCiAgIm9wYWNpdHkiOiAxLjAsCiAgInJhZGl1cyI6IDUsCiAgInN0cm9rZSI6IHRydWUsCiAgIndlaWdodCI6IDMKfQogICAgICAgICAgICAgICAgKS5hZGRUbyhtYXBfYzY3ZGMyZjM3OTczNDRjYzg1MzIwNzg0ODFkMjk1YTUpOwogICAgICAgICAgICAKICAgIAogICAgICAgICAgICB2YXIgcG9wdXBfMTgxZjdjNGE0YjlmNDMxMmFhNGNiNTI3MmY2ZDA3NTYgPSBMLnBvcHVwKHttYXhXaWR0aDogJzMwMCd9KTsKCiAgICAgICAgICAgIAogICAgICAgICAgICAgICAgdmFyIGh0bWxfZjYwY2ZhMDgzNGU3NGQzYzkzMjg1MjUxYWI1NDgyMGEgPSAkKCc8ZGl2IGlkPSJodG1sX2Y2MGNmYTA4MzRlNzRkM2M5MzI4NTI1MWFiNTQ4MjBhIiBzdHlsZT0id2lkdGg6IDEwMC4wJTsgaGVpZ2h0OiAxMDAuMCU7Ij5IYW1hY2hpIEtpdGEgU3VzaGkgJmFtcDsgQXNpYW4gRmxhcmU8L2Rpdj4nKVswXTsKICAgICAgICAgICAgICAgIHBvcHVwXzE4MWY3YzRhNGI5ZjQzMTJhYTRjYjUyNzJmNmQwNzU2LnNldENvbnRlbnQoaHRtbF9mNjBjZmEwODM0ZTc0ZDNjOTMyODUyNTFhYjU0ODIwYSk7CiAgICAgICAgICAgIAoKICAgICAgICAgICAgY2lyY2xlX21hcmtlcl81NTc1ZjkzNGY5OTU0N2UzOTk0NTdiMjdmNTA0OTRhNC5iaW5kUG9wdXAocG9wdXBfMTgxZjdjNGE0YjlmNDMxMmFhNGNiNTI3MmY2ZDA3NTYpOwoKICAgICAgICAgICAgCiAgICAgICAgCiAgICAKICAgICAgICAgICAgdmFyIGNpcmNsZV9tYXJrZXJfZjg1YzY0MWU1ZjFkNDNmOWIyODk3MjE0MmMyZDlmYzcgPSBMLmNpcmNsZU1hcmtlcigKICAgICAgICAgICAgICAgIFs0NC42NjA2NDk4MDEzNDgzNSwtNjMuNjAxNDQwNDQ5ODQ4MDhdLAogICAgICAgICAgICAgICAgewogICJidWJibGluZ01vdXNlRXZlbnRzIjogdHJ1ZSwKICAiY29sb3IiOiAiYmx1ZSIsCiAgImRhc2hBcnJheSI6IG51bGwsCiAgImRhc2hPZmZzZXQiOiBudWxsLAogICJmaWxsIjogdHJ1ZSwKICAiZmlsbENvbG9yIjogIiMzMTg2Y2MiLAogICJmaWxsT3BhY2l0eSI6IDAuNywKICAiZmlsbFJ1bGUiOiAiZXZlbm9kZCIsCiAgImxpbmVDYXAiOiAicm91bmQiLAogICJsaW5lSm9pbiI6ICJyb3VuZCIsCiAgIm9wYWNpdHkiOiAxLjAsCiAgInJhZGl1cyI6IDUsCiAgInN0cm9rZSI6IHRydWUsCiAgIndlaWdodCI6IDMKfQogICAgICAgICAgICAgICAgKS5hZGRUbyhtYXBfYzY3ZGMyZjM3OTczNDRjYzg1MzIwNzg0ODFkMjk1YTUpOwogICAgICAgICAgICAKICAgIAogICAgICAgICAgICB2YXIgcG9wdXBfYWQzYWE3ZDdlMjUyNGQyZDhlYmI5MDdjYjY0MDFkNWQgPSBMLnBvcHVwKHttYXhXaWR0aDogJzMwMCd9KTsKCiAgICAgICAgICAgIAogICAgICAgICAgICAgICAgdmFyIGh0bWxfYjYyNDlkNTVhYWIyNDk4ZGEwZmI3YWEzZDcyODllZjkgPSAkKCc8ZGl2IGlkPSJodG1sX2I2MjQ5ZDU1YWFiMjQ5OGRhMGZiN2FhM2Q3Mjg5ZWY5IiBzdHlsZT0id2lkdGg6IDEwMC4wJTsgaGVpZ2h0OiAxMDAuMCU7Ij5IdW1hbmktVCBDYWZlPC9kaXY+JylbMF07CiAgICAgICAgICAgICAgICBwb3B1cF9hZDNhYTdkN2UyNTI0ZDJkOGViYjkwN2NiNjQwMWQ1ZC5zZXRDb250ZW50KGh0bWxfYjYyNDlkNTVhYWIyNDk4ZGEwZmI3YWEzZDcyODllZjkpOwogICAgICAgICAgICAKCiAgICAgICAgICAgIGNpcmNsZV9tYXJrZXJfZjg1YzY0MWU1ZjFkNDNmOWIyODk3MjE0MmMyZDlmYzcuYmluZFBvcHVwKHBvcHVwX2FkM2FhN2Q3ZTI1MjRkMmQ4ZWJiOTA3Y2I2NDAxZDVkKTsKCiAgICAgICAgICAgIAogICAgICAgIAogICAgCiAgICAgICAgICAgIHZhciBjaXJjbGVfbWFya2VyXzJhMzNkYjM1ZTViZjQ4NjhhOWRhNzg1NzExNWQ4NTU3ID0gTC5jaXJjbGVNYXJrZXIoCiAgICAgICAgICAgICAgICBbNDQuNjYxODg3MTYyNzczNSwtNjMuNTk5Mzc0NjA0NDkyNTFdLAogICAgICAgICAgICAgICAgewogICJidWJibGluZ01vdXNlRXZlbnRzIjogdHJ1ZSwKICAiY29sb3IiOiAiYmx1ZSIsCiAgImRhc2hBcnJheSI6IG51bGwsCiAgImRhc2hPZmZzZXQiOiBudWxsLAogICJmaWxsIjogdHJ1ZSwKICAiZmlsbENvbG9yIjogIiMzMTg2Y2MiLAogICJmaWxsT3BhY2l0eSI6IDAuNywKICAiZmlsbFJ1bGUiOiAiZXZlbm9kZCIsCiAgImxpbmVDYXAiOiAicm91bmQiLAogICJsaW5lSm9pbiI6ICJyb3VuZCIsCiAgIm9wYWNpdHkiOiAxLjAsCiAgInJhZGl1cyI6IDUsCiAgInN0cm9rZSI6IHRydWUsCiAgIndlaWdodCI6IDMKfQogICAgICAgICAgICAgICAgKS5hZGRUbyhtYXBfYzY3ZGMyZjM3OTczNDRjYzg1MzIwNzg0ODFkMjk1YTUpOwogICAgICAgICAgICAKICAgIAogICAgICAgICAgICB2YXIgcG9wdXBfN2ZkZjEzMjc0YzM1NDg1Yjk5NGQzOTM3OTkwY2YzNGMgPSBMLnBvcHVwKHttYXhXaWR0aDogJzMwMCd9KTsKCiAgICAgICAgICAgIAogICAgICAgICAgICAgICAgdmFyIGh0bWxfNTU0M2RkZjM1MjhmNGI4Nzk1YzdkNmU0N2U2MzAzNzMgPSAkKCc8ZGl2IGlkPSJodG1sXzU1NDNkZGYzNTI4ZjRiODc5NWM3ZDZlNDdlNjMwMzczIiBzdHlsZT0id2lkdGg6IDEwMC4wJTsgaGVpZ2h0OiAxMDAuMCU7Ij5TYWx2YXRvcmUmIzM5O3MgUGl6emFpb2xvIFRyYXR0b3JpYTwvZGl2PicpWzBdOwogICAgICAgICAgICAgICAgcG9wdXBfN2ZkZjEzMjc0YzM1NDg1Yjk5NGQzOTM3OTkwY2YzNGMuc2V0Q29udGVudChodG1sXzU1NDNkZGYzNTI4ZjRiODc5NWM3ZDZlNDdlNjMwMzczKTsKICAgICAgICAgICAgCgogICAgICAgICAgICBjaXJjbGVfbWFya2VyXzJhMzNkYjM1ZTViZjQ4NjhhOWRhNzg1NzExNWQ4NTU3LmJpbmRQb3B1cChwb3B1cF83ZmRmMTMyNzRjMzU0ODViOTk0ZDM5Mzc5OTBjZjM0Yyk7CgogICAgICAgICAgICAKICAgICAgICAKICAgIAogICAgICAgICAgICB2YXIgY2lyY2xlX21hcmtlcl9kZThkZDVhZWI3MjM0Y2IwOTJiMWE0MjMwMTc0MTIzZiA9IEwuY2lyY2xlTWFya2VyKAogICAgICAgICAgICAgICAgWzQ0LjY2MjExMDIyMjA5MTk1NCwtNjMuNTk4OTI0NzYxNTg2OTNdLAogICAgICAgICAgICAgICAgewogICJidWJibGluZ01vdXNlRXZlbnRzIjogdHJ1ZSwKICAiY29sb3IiOiAiYmx1ZSIsCiAgImRhc2hBcnJheSI6IG51bGwsCiAgImRhc2hPZmZzZXQiOiBudWxsLAogICJmaWxsIjogdHJ1ZSwKICAiZmlsbENvbG9yIjogIiMzMTg2Y2MiLAogICJmaWxsT3BhY2l0eSI6IDAuNywKICAiZmlsbFJ1bGUiOiAiZXZlbm9kZCIsCiAgImxpbmVDYXAiOiAicm91bmQiLAogICJsaW5lSm9pbiI6ICJyb3VuZCIsCiAgIm9wYWNpdHkiOiAxLjAsCiAgInJhZGl1cyI6IDUsCiAgInN0cm9rZSI6IHRydWUsCiAgIndlaWdodCI6IDMKfQogICAgICAgICAgICAgICAgKS5hZGRUbyhtYXBfYzY3ZGMyZjM3OTczNDRjYzg1MzIwNzg0ODFkMjk1YTUpOwogICAgICAgICAgICAKICAgIAogICAgICAgICAgICB2YXIgcG9wdXBfYWNiOWY0ZTY5M2IyNGNiMmExOGQ5NDhhM2ZhZDg1MjEgPSBMLnBvcHVwKHttYXhXaWR0aDogJzMwMCd9KTsKCiAgICAgICAgICAgIAogICAgICAgICAgICAgICAgdmFyIGh0bWxfMDRlZjY1OWRiZmE5NDRiNDk0NmIwODU2YTE0NTI2NmQgPSAkKCc8ZGl2IGlkPSJodG1sXzA0ZWY2NTlkYmZhOTQ0YjQ5NDZiMDg1NmExNDUyNjZkIiBzdHlsZT0id2lkdGg6IDEwMC4wJTsgaGVpZ2h0OiAxMDAuMCU7Ij5MaXF1aWQgR29sZCBPbGl2ZSBPaWwgVGFzdGluZyBCYXI8L2Rpdj4nKVswXTsKICAgICAgICAgICAgICAgIHBvcHVwX2FjYjlmNGU2OTNiMjRjYjJhMThkOTQ4YTNmYWQ4NTIxLnNldENvbnRlbnQoaHRtbF8wNGVmNjU5ZGJmYTk0NGI0OTQ2YjA4NTZhMTQ1MjY2ZCk7CiAgICAgICAgICAgIAoKICAgICAgICAgICAgY2lyY2xlX21hcmtlcl9kZThkZDVhZWI3MjM0Y2IwOTJiMWE0MjMwMTc0MTIzZi5iaW5kUG9wdXAocG9wdXBfYWNiOWY0ZTY5M2IyNGNiMmExOGQ5NDhhM2ZhZDg1MjEpOwoKICAgICAgICAgICAgCiAgICAgICAgCiAgICAKICAgICAgICAgICAgdmFyIGNpcmNsZV9tYXJrZXJfYjAxZmY1MjlhNGNlNGYwZTlhYzQzNWJmZWNhMDkwNDIgPSBMLmNpcmNsZU1hcmtlcigKICAgICAgICAgICAgICAgIFs0NC42NjIyNTE0OTEwMzc5OCwtNjMuNTk5MDA0ODc4MTkxMTNdLAogICAgICAgICAgICAgICAgewogICJidWJibGluZ01vdXNlRXZlbnRzIjogdHJ1ZSwKICAiY29sb3IiOiAiYmx1ZSIsCiAgImRhc2hBcnJheSI6IG51bGwsCiAgImRhc2hPZmZzZXQiOiBudWxsLAogICJmaWxsIjogdHJ1ZSwKICAiZmlsbENvbG9yIjogIiMzMTg2Y2MiLAogICJmaWxsT3BhY2l0eSI6IDAuNywKICAiZmlsbFJ1bGUiOiAiZXZlbm9kZCIsCiAgImxpbmVDYXAiOiAicm91bmQiLAogICJsaW5lSm9pbiI6ICJyb3VuZCIsCiAgIm9wYWNpdHkiOiAxLjAsCiAgInJhZGl1cyI6IDUsCiAgInN0cm9rZSI6IHRydWUsCiAgIndlaWdodCI6IDMKfQogICAgICAgICAgICAgICAgKS5hZGRUbyhtYXBfYzY3ZGMyZjM3OTczNDRjYzg1MzIwNzg0ODFkMjk1YTUpOwogICAgICAgICAgICAKICAgIAogICAgICAgICAgICB2YXIgcG9wdXBfZWUzNzE0Y2U5OThlNDgzZmI0MGQwYWEzOWUzZDRhMDggPSBMLnBvcHVwKHttYXhXaWR0aDogJzMwMCd9KTsKCiAgICAgICAgICAgIAogICAgICAgICAgICAgICAgdmFyIGh0bWxfNjliNGY4ZjRiYTIzNDc4N2JjYWUxMDhhN2Y1Yzc3YmMgPSAkKCc8ZGl2IGlkPSJodG1sXzY5YjRmOGY0YmEyMzQ3ODdiY2FlMTA4YTdmNWM3N2JjIiBzdHlsZT0id2lkdGg6IDEwMC4wJTsgaGVpZ2h0OiAxMDAuMCU7Ij5KdWxpZW4mIzM5O3MgUGF0aXNzZXJpZSBCYWtlcnkgJmFtcDsgQ2FmZTwvZGl2PicpWzBdOwogICAgICAgICAgICAgICAgcG9wdXBfZWUzNzE0Y2U5OThlNDgzZmI0MGQwYWEzOWUzZDRhMDguc2V0Q29udGVudChodG1sXzY5YjRmOGY0YmEyMzQ3ODdiY2FlMTA4YTdmNWM3N2JjKTsKICAgICAgICAgICAgCgogICAgICAgICAgICBjaXJjbGVfbWFya2VyX2IwMWZmNTI5YTRjZTRmMGU5YWM0MzViZmVjYTA5MDQyLmJpbmRQb3B1cChwb3B1cF9lZTM3MTRjZTk5OGU0ODNmYjQwZDBhYTM5ZTNkNGEwOCk7CgogICAgICAgICAgICAKICAgICAgICAKICAgIAogICAgICAgICAgICB2YXIgY2lyY2xlX21hcmtlcl9hMDJlNjlmMDI2MjE0MjQ1YTI0NDU1OTA1ODYyMGFjNyA9IEwuY2lyY2xlTWFya2VyKAogICAgICAgICAgICAgICAgWzQ0LjY1Nzg0MSwtNjMuNTk5MzQ5XSwKICAgICAgICAgICAgICAgIHsKICAiYnViYmxpbmdNb3VzZUV2ZW50cyI6IHRydWUsCiAgImNvbG9yIjogImJsdWUiLAogICJkYXNoQXJyYXkiOiBudWxsLAogICJkYXNoT2Zmc2V0IjogbnVsbCwKICAiZmlsbCI6IHRydWUsCiAgImZpbGxDb2xvciI6ICIjMzE4NmNjIiwKICAiZmlsbE9wYWNpdHkiOiAwLjcsCiAgImZpbGxSdWxlIjogImV2ZW5vZGQiLAogICJsaW5lQ2FwIjogInJvdW5kIiwKICAibGluZUpvaW4iOiAicm91bmQiLAogICJvcGFjaXR5IjogMS4wLAogICJyYWRpdXMiOiA1LAogICJzdHJva2UiOiB0cnVlLAogICJ3ZWlnaHQiOiAzCn0KICAgICAgICAgICAgICAgICkuYWRkVG8obWFwX2M2N2RjMmYzNzk3MzQ0Y2M4NTMyMDc4NDgxZDI5NWE1KTsKICAgICAgICAgICAgCiAgICAKICAgICAgICAgICAgdmFyIHBvcHVwXzBmMjExZDc5NGQ4NjQwYzJiYmJiNGU0NjEyN2JkNTIwID0gTC5wb3B1cCh7bWF4V2lkdGg6ICczMDAnfSk7CgogICAgICAgICAgICAKICAgICAgICAgICAgICAgIHZhciBodG1sXzBmZjczNDZmZmU1NTRlMDZiYzZjNTZjNjAyMWM5YjY1ID0gJCgnPGRpdiBpZD0iaHRtbF8wZmY3MzQ2ZmZlNTU0ZTA2YmM2YzU2YzYwMjFjOWI2NSIgc3R5bGU9IndpZHRoOiAxMDAuMCU7IGhlaWdodDogMTAwLjAlOyI+U2lsdmVyIERyYWdvbjwvZGl2PicpWzBdOwogICAgICAgICAgICAgICAgcG9wdXBfMGYyMTFkNzk0ZDg2NDBjMmJiYmI0ZTQ2MTI3YmQ1MjAuc2V0Q29udGVudChodG1sXzBmZjczNDZmZmU1NTRlMDZiYzZjNTZjNjAyMWM5YjY1KTsKICAgICAgICAgICAgCgogICAgICAgICAgICBjaXJjbGVfbWFya2VyX2EwMmU2OWYwMjYyMTQyNDVhMjQ0NTU5MDU4NjIwYWM3LmJpbmRQb3B1cChwb3B1cF8wZjIxMWQ3OTRkODY0MGMyYmJiYjRlNDYxMjdiZDUyMCk7CgogICAgICAgICAgICAKICAgICAgICAKICAgIAogICAgICAgICAgICB2YXIgY2lyY2xlX21hcmtlcl84NTMzYjQyMGExMzU0MmE5ODEzZmY0ZDM2ZmE4ZDE3NyA9IEwuY2lyY2xlTWFya2VyKAogICAgICAgICAgICAgICAgWzQ0LjY1NjU0ODYwNTEzNzM0NSwtNjMuNTk3NTU5NTc2NTE5NzhdLAogICAgICAgICAgICAgICAgewogICJidWJibGluZ01vdXNlRXZlbnRzIjogdHJ1ZSwKICAiY29sb3IiOiAiYmx1ZSIsCiAgImRhc2hBcnJheSI6IG51bGwsCiAgImRhc2hPZmZzZXQiOiBudWxsLAogICJmaWxsIjogdHJ1ZSwKICAiZmlsbENvbG9yIjogIiMzMTg2Y2MiLAogICJmaWxsT3BhY2l0eSI6IDAuNywKICAiZmlsbFJ1bGUiOiAiZXZlbm9kZCIsCiAgImxpbmVDYXAiOiAicm91bmQiLAogICJsaW5lSm9pbiI6ICJyb3VuZCIsCiAgIm9wYWNpdHkiOiAxLjAsCiAgInJhZGl1cyI6IDUsCiAgInN0cm9rZSI6IHRydWUsCiAgIndlaWdodCI6IDMKfQogICAgICAgICAgICAgICAgKS5hZGRUbyhtYXBfYzY3ZGMyZjM3OTczNDRjYzg1MzIwNzg0ODFkMjk1YTUpOwogICAgICAgICAgICAKICAgIAogICAgICAgICAgICB2YXIgcG9wdXBfNWUwNDk2NDQyMGJiNGVmMzgzMTdhMzg5NmY0MWZjYmIgPSBMLnBvcHVwKHttYXhXaWR0aDogJzMwMCd9KTsKCiAgICAgICAgICAgIAogICAgICAgICAgICAgICAgdmFyIGh0bWxfZDEwNDA4MWQxYTZmNDcyMDliNjg0YThjNTZjMTc1NDEgPSAkKCc8ZGl2IGlkPSJodG1sX2QxMDQwODFkMWE2ZjQ3MjA5YjY4NGE4YzU2YzE3NTQxIiBzdHlsZT0id2lkdGg6IDEwMC4wJTsgaGVpZ2h0OiAxMDAuMCU7Ij5UaGUgQ29hc3RhbCBDYWZlPC9kaXY+JylbMF07CiAgICAgICAgICAgICAgICBwb3B1cF81ZTA0OTY0NDIwYmI0ZWYzODMxN2EzODk2ZjQxZmNiYi5zZXRDb250ZW50KGh0bWxfZDEwNDA4MWQxYTZmNDcyMDliNjg0YThjNTZjMTc1NDEpOwogICAgICAgICAgICAKCiAgICAgICAgICAgIGNpcmNsZV9tYXJrZXJfODUzM2I0MjBhMTM1NDJhOTgxM2ZmNGQzNmZhOGQxNzcuYmluZFBvcHVwKHBvcHVwXzVlMDQ5NjQ0MjBiYjRlZjM4MzE3YTM4OTZmNDFmY2JiKTsKCiAgICAgICAgICAgIAogICAgICAgIAogICAgCiAgICAgICAgICAgIHZhciBjaXJjbGVfbWFya2VyXzg0YjE3MDdhMDcwZTQwZDZiZmExOTMxNmI5NWFkMWJmID0gTC5jaXJjbGVNYXJrZXIoCiAgICAgICAgICAgICAgICBbNDQuNjU2NTUzMjY3MjYwOTgsLTYzLjU5Nzc2MTY5NDE3OTkxNl0sCiAgICAgICAgICAgICAgICB7CiAgImJ1YmJsaW5nTW91c2VFdmVudHMiOiB0cnVlLAogICJjb2xvciI6ICJibHVlIiwKICAiZGFzaEFycmF5IjogbnVsbCwKICAiZGFzaE9mZnNldCI6IG51bGwsCiAgImZpbGwiOiB0cnVlLAogICJmaWxsQ29sb3IiOiAiIzMxODZjYyIsCiAgImZpbGxPcGFjaXR5IjogMC43LAogICJmaWxsUnVsZSI6ICJldmVub2RkIiwKICAibGluZUNhcCI6ICJyb3VuZCIsCiAgImxpbmVKb2luIjogInJvdW5kIiwKICAib3BhY2l0eSI6IDEuMCwKICAicmFkaXVzIjogNSwKICAic3Ryb2tlIjogdHJ1ZSwKICAid2VpZ2h0IjogMwp9CiAgICAgICAgICAgICAgICApLmFkZFRvKG1hcF9jNjdkYzJmMzc5NzM0NGNjODUzMjA3ODQ4MWQyOTVhNSk7CiAgICAgICAgICAgIAogICAgCiAgICAgICAgICAgIHZhciBwb3B1cF83NjlkMzhkOGM5MzE0NDAyYmNjOGJiOWVkYTIxNGY5MSA9IEwucG9wdXAoe21heFdpZHRoOiAnMzAwJ30pOwoKICAgICAgICAgICAgCiAgICAgICAgICAgICAgICB2YXIgaHRtbF8zODZiYzQ5ZmRiNTU0ODVlYmI0ODgyYjMzZGZjNWEyYiA9ICQoJzxkaXYgaWQ9Imh0bWxfMzg2YmM0OWZkYjU1NDg1ZWJiNDg4MmIzM2RmYzVhMmIiIHN0eWxlPSJ3aWR0aDogMTAwLjAlOyBoZWlnaHQ6IDEwMC4wJTsiPkdvb2QgUm9ib3QgQnJld2luZyBDb21wYW55PC9kaXY+JylbMF07CiAgICAgICAgICAgICAgICBwb3B1cF83NjlkMzhkOGM5MzE0NDAyYmNjOGJiOWVkYTIxNGY5MS5zZXRDb250ZW50KGh0bWxfMzg2YmM0OWZkYjU1NDg1ZWJiNDg4MmIzM2RmYzVhMmIpOwogICAgICAgICAgICAKCiAgICAgICAgICAgIGNpcmNsZV9tYXJrZXJfODRiMTcwN2EwNzBlNDBkNmJmYTE5MzE2Yjk1YWQxYmYuYmluZFBvcHVwKHBvcHVwXzc2OWQzOGQ4YzkzMTQ0MDJiY2M4YmI5ZWRhMjE0ZjkxKTsKCiAgICAgICAgICAgIAogICAgICAgIAogICAgCiAgICAgICAgICAgIHZhciBjaXJjbGVfbWFya2VyXzcwYmUwNTc0OGY5ZTQ3Y2M5NzE0ZmYzZDhkODY0YmRhID0gTC5jaXJjbGVNYXJrZXIoCiAgICAgICAgICAgICAgICBbNDQuNjYwMjQ1MTM3MjA2NjE2LC02My42MDU4MjgzMzM3OTAyM10sCiAgICAgICAgICAgICAgICB7CiAgImJ1YmJsaW5nTW91c2VFdmVudHMiOiB0cnVlLAogICJjb2xvciI6ICJibHVlIiwKICAiZGFzaEFycmF5IjogbnVsbCwKICAiZGFzaE9mZnNldCI6IG51bGwsCiAgImZpbGwiOiB0cnVlLAogICJmaWxsQ29sb3IiOiAiIzMxODZjYyIsCiAgImZpbGxPcGFjaXR5IjogMC43LAogICJmaWxsUnVsZSI6ICJldmVub2RkIiwKICAibGluZUNhcCI6ICJyb3VuZCIsCiAgImxpbmVKb2luIjogInJvdW5kIiwKICAib3BhY2l0eSI6IDEuMCwKICAicmFkaXVzIjogNSwKICAic3Ryb2tlIjogdHJ1ZSwKICAid2VpZ2h0IjogMwp9CiAgICAgICAgICAgICAgICApLmFkZFRvKG1hcF9jNjdkYzJmMzc5NzM0NGNjODUzMjA3ODQ4MWQyOTVhNSk7CiAgICAgICAgICAgIAogICAgCiAgICAgICAgICAgIHZhciBwb3B1cF8xMDg1Njc3OGIzMWU0ODA3OWM0NmZmYjliMzMyZjhlNyA9IEwucG9wdXAoe21heFdpZHRoOiAnMzAwJ30pOwoKICAgICAgICAgICAgCiAgICAgICAgICAgICAgICB2YXIgaHRtbF85M2YyYzUyMmI4M2Y0MjlmYTdhNTI4YmQzMTViOTBkOSA9ICQoJzxkaXYgaWQ9Imh0bWxfOTNmMmM1MjJiODNmNDI5ZmE3YTUyOGJkMzE1YjkwZDkiIHN0eWxlPSJ3aWR0aDogMTAwLjAlOyBoZWlnaHQ6IDEwMC4wJTsiPkNoZWYgQWJvZCBDYWZlIGFuZCBDYXRlcmluZzwvZGl2PicpWzBdOwogICAgICAgICAgICAgICAgcG9wdXBfMTA4NTY3NzhiMzFlNDgwNzljNDZmZmI5YjMzMmY4ZTcuc2V0Q29udGVudChodG1sXzkzZjJjNTIyYjgzZjQyOWZhN2E1MjhiZDMxNWI5MGQ5KTsKICAgICAgICAgICAgCgogICAgICAgICAgICBjaXJjbGVfbWFya2VyXzcwYmUwNTc0OGY5ZTQ3Y2M5NzE0ZmYzZDhkODY0YmRhLmJpbmRQb3B1cChwb3B1cF8xMDg1Njc3OGIzMWU0ODA3OWM0NmZmYjliMzMyZjhlNyk7CgogICAgICAgICAgICAKICAgICAgICAKICAgIAogICAgICAgICAgICB2YXIgY2lyY2xlX21hcmtlcl8xMDYyYTkyYmRmNjI0YmRlYjc4YWRhNjRhMjA3YjRiNyA9IEwuY2lyY2xlTWFya2VyKAogICAgICAgICAgICAgICAgWzQ0LjY1ODU0LC02My42MDM4MTZdLAogICAgICAgICAgICAgICAgewogICJidWJibGluZ01vdXNlRXZlbnRzIjogdHJ1ZSwKICAiY29sb3IiOiAiYmx1ZSIsCiAgImRhc2hBcnJheSI6IG51bGwsCiAgImRhc2hPZmZzZXQiOiBudWxsLAogICJmaWxsIjogdHJ1ZSwKICAiZmlsbENvbG9yIjogIiMzMTg2Y2MiLAogICJmaWxsT3BhY2l0eSI6IDAuNywKICAiZmlsbFJ1bGUiOiAiZXZlbm9kZCIsCiAgImxpbmVDYXAiOiAicm91bmQiLAogICJsaW5lSm9pbiI6ICJyb3VuZCIsCiAgIm9wYWNpdHkiOiAxLjAsCiAgInJhZGl1cyI6IDUsCiAgInN0cm9rZSI6IHRydWUsCiAgIndlaWdodCI6IDMKfQogICAgICAgICAgICAgICAgKS5hZGRUbyhtYXBfYzY3ZGMyZjM3OTczNDRjYzg1MzIwNzg0ODFkMjk1YTUpOwogICAgICAgICAgICAKICAgIAogICAgICAgICAgICB2YXIgcG9wdXBfNzQ0MmM2MWFhZmFhNDdjMzk4YmRmYzU5ZWY4ZTNlZDUgPSBMLnBvcHVwKHttYXhXaWR0aDogJzMwMCd9KTsKCiAgICAgICAgICAgIAogICAgICAgICAgICAgICAgdmFyIGh0bWxfNWVkM2RlNDNjZDEyNGNhOWJkOWI4NGVjNzg1ZjE3MTYgPSAkKCc8ZGl2IGlkPSJodG1sXzVlZDNkZTQzY2QxMjRjYTliZDliODRlYzc4NWYxNzE2IiBzdHlsZT0id2lkdGg6IDEwMC4wJTsgaGVpZ2h0OiAxMDAuMCU7Ij5TdGVhayAmYW1wOyBTdGVpbjwvZGl2PicpWzBdOwogICAgICAgICAgICAgICAgcG9wdXBfNzQ0MmM2MWFhZmFhNDdjMzk4YmRmYzU5ZWY4ZTNlZDUuc2V0Q29udGVudChodG1sXzVlZDNkZTQzY2QxMjRjYTliZDliODRlYzc4NWYxNzE2KTsKICAgICAgICAgICAgCgogICAgICAgICAgICBjaXJjbGVfbWFya2VyXzEwNjJhOTJiZGY2MjRiZGViNzhhZGE2NGEyMDdiNGI3LmJpbmRQb3B1cChwb3B1cF83NDQyYzYxYWFmYWE0N2MzOThiZGZjNTllZjhlM2VkNSk7CgogICAgICAgICAgICAKICAgICAgICAKICAgIAogICAgICAgICAgICB2YXIgY2lyY2xlX21hcmtlcl8yNGYxMmViNzdiYzQ0NGU5ODczMjAxMDFjNGRiNWI5MCA9IEwuY2lyY2xlTWFya2VyKAogICAgICAgICAgICAgICAgWzQ0LjY1Njc2MjY1MTkzMzE0LC02My41OTgwMTY2MTE2ODE3NjRdLAogICAgICAgICAgICAgICAgewogICJidWJibGluZ01vdXNlRXZlbnRzIjogdHJ1ZSwKICAiY29sb3IiOiAiYmx1ZSIsCiAgImRhc2hBcnJheSI6IG51bGwsCiAgImRhc2hPZmZzZXQiOiBudWxsLAogICJmaWxsIjogdHJ1ZSwKICAiZmlsbENvbG9yIjogIiMzMTg2Y2MiLAogICJmaWxsT3BhY2l0eSI6IDAuNywKICAiZmlsbFJ1bGUiOiAiZXZlbm9kZCIsCiAgImxpbmVDYXAiOiAicm91bmQiLAogICJsaW5lSm9pbiI6ICJyb3VuZCIsCiAgIm9wYWNpdHkiOiAxLjAsCiAgInJhZGl1cyI6IDUsCiAgInN0cm9rZSI6IHRydWUsCiAgIndlaWdodCI6IDMKfQogICAgICAgICAgICAgICAgKS5hZGRUbyhtYXBfYzY3ZGMyZjM3OTczNDRjYzg1MzIwNzg0ODFkMjk1YTUpOwogICAgICAgICAgICAKICAgIAogICAgICAgICAgICB2YXIgcG9wdXBfNzk3YzFiN2ZkOTRjNDE0ZGJmZDM4YjQyNzVjMjg2YzcgPSBMLnBvcHVwKHttYXhXaWR0aDogJzMwMCd9KTsKCiAgICAgICAgICAgIAogICAgICAgICAgICAgICAgdmFyIGh0bWxfMjZhZDViMTEyMWRhNDM5ZTllZGFjN2YyNmUwNTRlZTIgPSAkKCc8ZGl2IGlkPSJodG1sXzI2YWQ1YjExMjFkYTQzOWU5ZWRhYzdmMjZlMDU0ZWUyIiBzdHlsZT0id2lkdGg6IDEwMC4wJTsgaGVpZ2h0OiAxMDAuMCU7Ij5NYXJ5JiMzOTtzIFBsYWNlIENhZmU8L2Rpdj4nKVswXTsKICAgICAgICAgICAgICAgIHBvcHVwXzc5N2MxYjdmZDk0YzQxNGRiZmQzOGI0Mjc1YzI4NmM3LnNldENvbnRlbnQoaHRtbF8yNmFkNWIxMTIxZGE0MzllOWVkYWM3ZjI2ZTA1NGVlMik7CiAgICAgICAgICAgIAoKICAgICAgICAgICAgY2lyY2xlX21hcmtlcl8yNGYxMmViNzdiYzQ0NGU5ODczMjAxMDFjNGRiNWI5MC5iaW5kUG9wdXAocG9wdXBfNzk3YzFiN2ZkOTRjNDE0ZGJmZDM4YjQyNzVjMjg2YzcpOwoKICAgICAgICAgICAgCiAgICAgICAgCiAgICAKICAgICAgICAgICAgdmFyIGNpcmNsZV9tYXJrZXJfNzMyNWNkOTQ1NzQ0NDZkNjhmYzE5ODFiNjhkZGYwMGEgPSBMLmNpcmNsZU1hcmtlcigKICAgICAgICAgICAgICAgIFs0NC42NTk2MTYxNzM3MDAyMzYsLTYzLjYwMTg3ODkzODE1NzIyXSwKICAgICAgICAgICAgICAgIHsKICAiYnViYmxpbmdNb3VzZUV2ZW50cyI6IHRydWUsCiAgImNvbG9yIjogImJsdWUiLAogICJkYXNoQXJyYXkiOiBudWxsLAogICJkYXNoT2Zmc2V0IjogbnVsbCwKICAiZmlsbCI6IHRydWUsCiAgImZpbGxDb2xvciI6ICIjMzE4NmNjIiwKICAiZmlsbE9wYWNpdHkiOiAwLjcsCiAgImZpbGxSdWxlIjogImV2ZW5vZGQiLAogICJsaW5lQ2FwIjogInJvdW5kIiwKICAibGluZUpvaW4iOiAicm91bmQiLAogICJvcGFjaXR5IjogMS4wLAogICJyYWRpdXMiOiA1LAogICJzdHJva2UiOiB0cnVlLAogICJ3ZWlnaHQiOiAzCn0KICAgICAgICAgICAgICAgICkuYWRkVG8obWFwX2M2N2RjMmYzNzk3MzQ0Y2M4NTMyMDc4NDgxZDI5NWE1KTsKICAgICAgICAgICAgCiAgICAKICAgICAgICAgICAgdmFyIHBvcHVwXzM0MjkzNjk5ZTQwYTQ4ODJhYzUzZThjZDc1NmJjZTEyID0gTC5wb3B1cCh7bWF4V2lkdGg6ICczMDAnfSk7CgogICAgICAgICAgICAKICAgICAgICAgICAgICAgIHZhciBodG1sX2YwODRmMzc0ZmVkYzRiZjU4ZGQyMmJkZDQ1YmJmOTIxID0gJCgnPGRpdiBpZD0iaHRtbF9mMDg0ZjM3NGZlZGM0YmY1OGRkMjJiZGQ0NWJiZjkyMSIgc3R5bGU9IndpZHRoOiAxMDAuMCU7IGhlaWdodDogMTAwLjAlOyI+UXVhbnR1bSBGcm9udGllcjwvZGl2PicpWzBdOwogICAgICAgICAgICAgICAgcG9wdXBfMzQyOTM2OTllNDBhNDg4MmFjNTNlOGNkNzU2YmNlMTIuc2V0Q29udGVudChodG1sX2YwODRmMzc0ZmVkYzRiZjU4ZGQyMmJkZDQ1YmJmOTIxKTsKICAgICAgICAgICAgCgogICAgICAgICAgICBjaXJjbGVfbWFya2VyXzczMjVjZDk0NTc0NDQ2ZDY4ZmMxOTgxYjY4ZGRmMDBhLmJpbmRQb3B1cChwb3B1cF8zNDI5MzY5OWU0MGE0ODgyYWM1M2U4Y2Q3NTZiY2UxMik7CgogICAgICAgICAgICAKICAgICAgICAKICAgIAogICAgICAgICAgICB2YXIgY2lyY2xlX21hcmtlcl9lMzdjZmQyMWMzZTI0NjFmYWUyYTBhNTcxZDAxMjE2ZSA9IEwuY2lyY2xlTWFya2VyKAogICAgICAgICAgICAgICAgWzQ0LjY2MjM4OTM1Mjk1MTc2LC02My42MDExMTMwNTM2MzA4OV0sCiAgICAgICAgICAgICAgICB7CiAgImJ1YmJsaW5nTW91c2VFdmVudHMiOiB0cnVlLAogICJjb2xvciI6ICJibHVlIiwKICAiZGFzaEFycmF5IjogbnVsbCwKICAiZGFzaE9mZnNldCI6IG51bGwsCiAgImZpbGwiOiB0cnVlLAogICJmaWxsQ29sb3IiOiAiIzMxODZjYyIsCiAgImZpbGxPcGFjaXR5IjogMC43LAogICJmaWxsUnVsZSI6ICJldmVub2RkIiwKICAibGluZUNhcCI6ICJyb3VuZCIsCiAgImxpbmVKb2luIjogInJvdW5kIiwKICAib3BhY2l0eSI6IDEuMCwKICAicmFkaXVzIjogNSwKICAic3Ryb2tlIjogdHJ1ZSwKICAid2VpZ2h0IjogMwp9CiAgICAgICAgICAgICAgICApLmFkZFRvKG1hcF9jNjdkYzJmMzc5NzM0NGNjODUzMjA3ODQ4MWQyOTVhNSk7CiAgICAgICAgICAgIAogICAgCiAgICAgICAgICAgIHZhciBwb3B1cF9hODhjZGU2MmZkNzc0MmY1YjEzYzdiZjRiZmNhMWE0YSA9IEwucG9wdXAoe21heFdpZHRoOiAnMzAwJ30pOwoKICAgICAgICAgICAgCiAgICAgICAgICAgICAgICB2YXIgaHRtbF8zMDBkOTU4MTc3YzA0OTMwYjFlMWU2Mzk1MDk1ODQwNyA9ICQoJzxkaXYgaWQ9Imh0bWxfMzAwZDk1ODE3N2MwNDkzMGIxZTFlNjM5NTA5NTg0MDciIHN0eWxlPSJ3aWR0aDogMTAwLjAlOyBoZWlnaHQ6IDEwMC4wJTsiPldpbGxtYW4mIzM5O3MgRmlzaCAmYW1wOyBDaGlwczwvZGl2PicpWzBdOwogICAgICAgICAgICAgICAgcG9wdXBfYTg4Y2RlNjJmZDc3NDJmNWIxM2M3YmY0YmZjYTFhNGEuc2V0Q29udGVudChodG1sXzMwMGQ5NTgxNzdjMDQ5MzBiMWUxZTYzOTUwOTU4NDA3KTsKICAgICAgICAgICAgCgogICAgICAgICAgICBjaXJjbGVfbWFya2VyX2UzN2NmZDIxYzNlMjQ2MWZhZTJhMGE1NzFkMDEyMTZlLmJpbmRQb3B1cChwb3B1cF9hODhjZGU2MmZkNzc0MmY1YjEzYzdiZjRiZmNhMWE0YSk7CgogICAgICAgICAgICAKICAgICAgICAKICAgIAogICAgICAgICAgICB2YXIgY2lyY2xlX21hcmtlcl9kNGU4ZjNjMzdjNTA0YjBmYmI2NDk5NTZlMWQzMzg3YyA9IEwuY2lyY2xlTWFya2VyKAogICAgICAgICAgICAgICAgWzQ0LjY1OTczNjYyMzM0NzY1NSwtNjMuNjAxOTUxNjU2MzI4OF0sCiAgICAgICAgICAgICAgICB7CiAgImJ1YmJsaW5nTW91c2VFdmVudHMiOiB0cnVlLAogICJjb2xvciI6ICJibHVlIiwKICAiZGFzaEFycmF5IjogbnVsbCwKICAiZGFzaE9mZnNldCI6IG51bGwsCiAgImZpbGwiOiB0cnVlLAogICJmaWxsQ29sb3IiOiAiIzMxODZjYyIsCiAgImZpbGxPcGFjaXR5IjogMC43LAogICJmaWxsUnVsZSI6ICJldmVub2RkIiwKICAibGluZUNhcCI6ICJyb3VuZCIsCiAgImxpbmVKb2luIjogInJvdW5kIiwKICAib3BhY2l0eSI6IDEuMCwKICAicmFkaXVzIjogNSwKICAic3Ryb2tlIjogdHJ1ZSwKICAid2VpZ2h0IjogMwp9CiAgICAgICAgICAgICAgICApLmFkZFRvKG1hcF9jNjdkYzJmMzc5NzM0NGNjODUzMjA3ODQ4MWQyOTVhNSk7CiAgICAgICAgICAgIAogICAgCiAgICAgICAgICAgIHZhciBwb3B1cF9kZWYwOWU5NWZmYTA0NDEwODVjYWJhYzVkZWFiMjk5ZSA9IEwucG9wdXAoe21heFdpZHRoOiAnMzAwJ30pOwoKICAgICAgICAgICAgCiAgICAgICAgICAgICAgICB2YXIgaHRtbF9lZWFjZjYxNDM1OTc0MmVjYjAzMmNkNzliNzljZjRkMiA9ICQoJzxkaXYgaWQ9Imh0bWxfZWVhY2Y2MTQzNTk3NDJlY2IwMzJjZDc5Yjc5Y2Y0ZDIiIHN0eWxlPSJ3aWR0aDogMTAwLjAlOyBoZWlnaHQ6IDEwMC4wJTsiPkxpb24mIzM5O3MgSGVhZCBUYXZlcm48L2Rpdj4nKVswXTsKICAgICAgICAgICAgICAgIHBvcHVwX2RlZjA5ZTk1ZmZhMDQ0MTA4NWNhYmFjNWRlYWIyOTllLnNldENvbnRlbnQoaHRtbF9lZWFjZjYxNDM1OTc0MmVjYjAzMmNkNzliNzljZjRkMik7CiAgICAgICAgICAgIAoKICAgICAgICAgICAgY2lyY2xlX21hcmtlcl9kNGU4ZjNjMzdjNTA0YjBmYmI2NDk5NTZlMWQzMzg3Yy5iaW5kUG9wdXAocG9wdXBfZGVmMDllOTVmZmEwNDQxMDg1Y2FiYWM1ZGVhYjI5OWUpOwoKICAgICAgICAgICAgCiAgICAgICAgCiAgICAKICAgICAgICAgICAgdmFyIGNpcmNsZV9tYXJrZXJfYjg3ZDRiZmYzMTYzNGI0MmIzMWVhZWQ5M2U4MjlhYzYgPSBMLmNpcmNsZU1hcmtlcigKICAgICAgICAgICAgICAgIFs0NC42NTkxOTY4MjUxMTg5MDQsLTYzLjYwMTAyMjQ3NjAyNDI0XSwKICAgICAgICAgICAgICAgIHsKICAiYnViYmxpbmdNb3VzZUV2ZW50cyI6IHRydWUsCiAgImNvbG9yIjogImJsdWUiLAogICJkYXNoQXJyYXkiOiBudWxsLAogICJkYXNoT2Zmc2V0IjogbnVsbCwKICAiZmlsbCI6IHRydWUsCiAgImZpbGxDb2xvciI6ICIjMzE4NmNjIiwKICAiZmlsbE9wYWNpdHkiOiAwLjcsCiAgImZpbGxSdWxlIjogImV2ZW5vZGQiLAogICJsaW5lQ2FwIjogInJvdW5kIiwKICAibGluZUpvaW4iOiAicm91bmQiLAogICJvcGFjaXR5IjogMS4wLAogICJyYWRpdXMiOiA1LAogICJzdHJva2UiOiB0cnVlLAogICJ3ZWlnaHQiOiAzCn0KICAgICAgICAgICAgICAgICkuYWRkVG8obWFwX2M2N2RjMmYzNzk3MzQ0Y2M4NTMyMDc4NDgxZDI5NWE1KTsKICAgICAgICAgICAgCiAgICAKICAgICAgICAgICAgdmFyIHBvcHVwX2I2Njg0NmExZGYwODQyMjc4ZmJiNGVlZTdjOWIwMjM3ID0gTC5wb3B1cCh7bWF4V2lkdGg6ICczMDAnfSk7CgogICAgICAgICAgICAKICAgICAgICAgICAgICAgIHZhciBodG1sX2IwNzZmZjJkMWZiZTQ2NjBiMzZkYWNkYTc2MDNmNGRhID0gJCgnPGRpdiBpZD0iaHRtbF9iMDc2ZmYyZDFmYmU0NjYwYjM2ZGFjZGE3NjAzZjRkYSIgc3R5bGU9IndpZHRoOiAxMDAuMCU7IGhlaWdodDogMTAwLjAlOyI+U3Vid2F5PC9kaXY+JylbMF07CiAgICAgICAgICAgICAgICBwb3B1cF9iNjY4NDZhMWRmMDg0MjI3OGZiYjRlZWU3YzliMDIzNy5zZXRDb250ZW50KGh0bWxfYjA3NmZmMmQxZmJlNDY2MGIzNmRhY2RhNzYwM2Y0ZGEpOwogICAgICAgICAgICAKCiAgICAgICAgICAgIGNpcmNsZV9tYXJrZXJfYjg3ZDRiZmYzMTYzNGI0MmIzMWVhZWQ5M2U4MjlhYzYuYmluZFBvcHVwKHBvcHVwX2I2Njg0NmExZGYwODQyMjc4ZmJiNGVlZTdjOWIwMjM3KTsKCiAgICAgICAgICAgIAogICAgICAgIAogICAgCiAgICAgICAgICAgIHZhciBjaXJjbGVfbWFya2VyX2UzYzgzNjNiZWY4YTRiZTdiODVkZTUyNTM0MmZhZjkwID0gTC5jaXJjbGVNYXJrZXIoCiAgICAgICAgICAgICAgICBbNDQuNjYxNjE3MzQxNjg0MTcsLTYzLjU5OTUzMzIwMzMzODg0XSwKICAgICAgICAgICAgICAgIHsKICAiYnViYmxpbmdNb3VzZUV2ZW50cyI6IHRydWUsCiAgImNvbG9yIjogImJsdWUiLAogICJkYXNoQXJyYXkiOiBudWxsLAogICJkYXNoT2Zmc2V0IjogbnVsbCwKICAiZmlsbCI6IHRydWUsCiAgImZpbGxDb2xvciI6ICIjMzE4NmNjIiwKICAiZmlsbE9wYWNpdHkiOiAwLjcsCiAgImZpbGxSdWxlIjogImV2ZW5vZGQiLAogICJsaW5lQ2FwIjogInJvdW5kIiwKICAibGluZUpvaW4iOiAicm91bmQiLAogICJvcGFjaXR5IjogMS4wLAogICJyYWRpdXMiOiA1LAogICJzdHJva2UiOiB0cnVlLAogICJ3ZWlnaHQiOiAzCn0KICAgICAgICAgICAgICAgICkuYWRkVG8obWFwX2M2N2RjMmYzNzk3MzQ0Y2M4NTMyMDc4NDgxZDI5NWE1KTsKICAgICAgICAgICAgCiAgICAKICAgICAgICAgICAgdmFyIHBvcHVwXzE1ZTJkM2Q4NDczNzQxYjM5NDhmNjE5Y2M2YzA2NjQ4ID0gTC5wb3B1cCh7bWF4V2lkdGg6ICczMDAnfSk7CgogICAgICAgICAgICAKICAgICAgICAgICAgICAgIHZhciBodG1sXzZjYjhiZDk2NWM3MzQwNWFiYjQ5NWQ4MDNiODZkOWViID0gJCgnPGRpdiBpZD0iaHRtbF82Y2I4YmQ5NjVjNzM0MDVhYmI0OTVkODAzYjg2ZDllYiIgc3R5bGU9IndpZHRoOiAxMDAuMCU7IGhlaWdodDogMTAwLjAlOyI+U3RhcmJ1Y2tzPC9kaXY+JylbMF07CiAgICAgICAgICAgICAgICBwb3B1cF8xNWUyZDNkODQ3Mzc0MWIzOTQ4ZjYxOWNjNmMwNjY0OC5zZXRDb250ZW50KGh0bWxfNmNiOGJkOTY1YzczNDA1YWJiNDk1ZDgwM2I4NmQ5ZWIpOwogICAgICAgICAgICAKCiAgICAgICAgICAgIGNpcmNsZV9tYXJrZXJfZTNjODM2M2JlZjhhNGJlN2I4NWRlNTI1MzQyZmFmOTAuYmluZFBvcHVwKHBvcHVwXzE1ZTJkM2Q4NDczNzQxYjM5NDhmNjE5Y2M2YzA2NjQ4KTsKCiAgICAgICAgICAgIAogICAgICAgIAogICAgCiAgICAgICAgICAgIHZhciBjaXJjbGVfbWFya2VyX2FjODU2YzU4OTlmOTQxYjc4YmMxOTcyMDFmMmRmYWQ0ID0gTC5jaXJjbGVNYXJrZXIoCiAgICAgICAgICAgICAgICBbNDQuNjU4Njc3NDYyOTA3NDUsLTYzLjYwMjI3ODIzMjU3NDQ2XSwKICAgICAgICAgICAgICAgIHsKICAiYnViYmxpbmdNb3VzZUV2ZW50cyI6IHRydWUsCiAgImNvbG9yIjogImJsdWUiLAogICJkYXNoQXJyYXkiOiBudWxsLAogICJkYXNoT2Zmc2V0IjogbnVsbCwKICAiZmlsbCI6IHRydWUsCiAgImZpbGxDb2xvciI6ICIjMzE4NmNjIiwKICAiZmlsbE9wYWNpdHkiOiAwLjcsCiAgImZpbGxSdWxlIjogImV2ZW5vZGQiLAogICJsaW5lQ2FwIjogInJvdW5kIiwKICAibGluZUpvaW4iOiAicm91bmQiLAogICJvcGFjaXR5IjogMS4wLAogICJyYWRpdXMiOiA1LAogICJzdHJva2UiOiB0cnVlLAogICJ3ZWlnaHQiOiAzCn0KICAgICAgICAgICAgICAgICkuYWRkVG8obWFwX2M2N2RjMmYzNzk3MzQ0Y2M4NTMyMDc4NDgxZDI5NWE1KTsKICAgICAgICAgICAgCiAgICAKICAgICAgICAgICAgdmFyIHBvcHVwX2FkMzA1N2M0NDI0NDQ1NjZiOTk2NzU0MjVhNmVmMmU0ID0gTC5wb3B1cCh7bWF4V2lkdGg6ICczMDAnfSk7CgogICAgICAgICAgICAKICAgICAgICAgICAgICAgIHZhciBodG1sXzhiNGJkNDhkOTVkZTRhNGQ5NTljODQ2MzAzMjNmZmEwID0gJCgnPGRpdiBpZD0iaHRtbF84YjRiZDQ4ZDk1ZGU0YTRkOTU5Yzg0NjMwMzIzZmZhMCIgc3R5bGU9IndpZHRoOiAxMDAuMCU7IGhlaWdodDogMTAwLjAlOyI+VGltIEhvcnRvbnM8L2Rpdj4nKVswXTsKICAgICAgICAgICAgICAgIHBvcHVwX2FkMzA1N2M0NDI0NDQ1NjZiOTk2NzU0MjVhNmVmMmU0LnNldENvbnRlbnQoaHRtbF84YjRiZDQ4ZDk1ZGU0YTRkOTU5Yzg0NjMwMzIzZmZhMCk7CiAgICAgICAgICAgIAoKICAgICAgICAgICAgY2lyY2xlX21hcmtlcl9hYzg1NmM1ODk5Zjk0MWI3OGJjMTk3MjAxZjJkZmFkNC5iaW5kUG9wdXAocG9wdXBfYWQzMDU3YzQ0MjQ0NDU2NmI5OTY3NTQyNWE2ZWYyZTQpOwoKICAgICAgICAgICAgCiAgICAgICAgCiAgICAKICAgICAgICAgICAgdmFyIGNpcmNsZV9tYXJrZXJfMTcyMTJmMGQzNDRmNGFlNzhlMzY3Y2Y5OGI2MjE0ZTkgPSBMLmNpcmNsZU1hcmtlcigKICAgICAgICAgICAgICAgIFs0NC42NTgzMjQzMTI3Njg5LC02My42MDQwMTMxNTY5MjQ4Nl0sCiAgICAgICAgICAgICAgICB7CiAgImJ1YmJsaW5nTW91c2VFdmVudHMiOiB0cnVlLAogICJjb2xvciI6ICJibHVlIiwKICAiZGFzaEFycmF5IjogbnVsbCwKICAiZGFzaE9mZnNldCI6IG51bGwsCiAgImZpbGwiOiB0cnVlLAogICJmaWxsQ29sb3IiOiAiIzMxODZjYyIsCiAgImZpbGxPcGFjaXR5IjogMC43LAogICJmaWxsUnVsZSI6ICJldmVub2RkIiwKICAibGluZUNhcCI6ICJyb3VuZCIsCiAgImxpbmVKb2luIjogInJvdW5kIiwKICAib3BhY2l0eSI6IDEuMCwKICAicmFkaXVzIjogNSwKICAic3Ryb2tlIjogdHJ1ZSwKICAid2VpZ2h0IjogMwp9CiAgICAgICAgICAgICAgICApLmFkZFRvKG1hcF9jNjdkYzJmMzc5NzM0NGNjODUzMjA3ODQ4MWQyOTVhNSk7CiAgICAgICAgICAgIAogICAgCiAgICAgICAgICAgIHZhciBwb3B1cF9iZTNjMThmNGFlNzc0ZmExYWQxMGI5MGRlOTlkNDJiYyA9IEwucG9wdXAoe21heFdpZHRoOiAnMzAwJ30pOwoKICAgICAgICAgICAgCiAgICAgICAgICAgICAgICB2YXIgaHRtbF8yZTQwODNjZjhiYmY0YWU3OGM4YzlhZWRjMWI4NGY0NyA9ICQoJzxkaXYgaWQ9Imh0bWxfMmU0MDgzY2Y4YmJmNGFlNzhjOGM5YWVkYzFiODRmNDciIHN0eWxlPSJ3aWR0aDogMTAwLjAlOyBoZWlnaHQ6IDEwMC4wJTsiPlBpenphIEh1dDwvZGl2PicpWzBdOwogICAgICAgICAgICAgICAgcG9wdXBfYmUzYzE4ZjRhZTc3NGZhMWFkMTBiOTBkZTk5ZDQyYmMuc2V0Q29udGVudChodG1sXzJlNDA4M2NmOGJiZjRhZTc4YzhjOWFlZGMxYjg0ZjQ3KTsKICAgICAgICAgICAgCgogICAgICAgICAgICBjaXJjbGVfbWFya2VyXzE3MjEyZjBkMzQ0ZjRhZTc4ZTM2N2NmOThiNjIxNGU5LmJpbmRQb3B1cChwb3B1cF9iZTNjMThmNGFlNzc0ZmExYWQxMGI5MGRlOTlkNDJiYyk7CgogICAgICAgICAgICAKICAgICAgICAKICAgIAogICAgICAgICAgICB2YXIgY2lyY2xlX21hcmtlcl9jNTk1ZGVjMjRmYzk0ZDhhODNjNGU2Y2IyYmMwNmM5YyA9IEwuY2lyY2xlTWFya2VyKAogICAgICAgICAgICAgICAgWzQ0LjY1ODI2NjMzNTIyMzM1LC02My41OTc5MDE4NDk4NzI3N10sCiAgICAgICAgICAgICAgICB7CiAgImJ1YmJsaW5nTW91c2VFdmVudHMiOiB0cnVlLAogICJjb2xvciI6ICJibHVlIiwKICAiZGFzaEFycmF5IjogbnVsbCwKICAiZGFzaE9mZnNldCI6IG51bGwsCiAgImZpbGwiOiB0cnVlLAogICJmaWxsQ29sb3IiOiAiIzMxODZjYyIsCiAgImZpbGxPcGFjaXR5IjogMC43LAogICJmaWxsUnVsZSI6ICJldmVub2RkIiwKICAibGluZUNhcCI6ICJyb3VuZCIsCiAgImxpbmVKb2luIjogInJvdW5kIiwKICAib3BhY2l0eSI6IDEuMCwKICAicmFkaXVzIjogNSwKICAic3Ryb2tlIjogdHJ1ZSwKICAid2VpZ2h0IjogMwp9CiAgICAgICAgICAgICAgICApLmFkZFRvKG1hcF9jNjdkYzJmMzc5NzM0NGNjODUzMjA3ODQ4MWQyOTVhNSk7CiAgICAgICAgICAgIAogICAgCiAgICAgICAgICAgIHZhciBwb3B1cF84ODMzMDc3MmFlYmY0ZDI5YmUxNzliMjM3ODgzZTUxYiA9IEwucG9wdXAoe21heFdpZHRoOiAnMzAwJ30pOwoKICAgICAgICAgICAgCiAgICAgICAgICAgICAgICB2YXIgaHRtbF83Mzg3N2YzYjY3ZDc0ZjBmOWMzNzY0MzA4MTdkNGJmNCA9ICQoJzxkaXYgaWQ9Imh0bWxfNzM4NzdmM2I2N2Q3NGYwZjljMzc2NDMwODE3ZDRiZjQiIHN0eWxlPSJ3aWR0aDogMTAwLjAlOyBoZWlnaHQ6IDEwMC4wJTsiPlJCQyBSb3lhbCBCYW5rPC9kaXY+JylbMF07CiAgICAgICAgICAgICAgICBwb3B1cF84ODMzMDc3MmFlYmY0ZDI5YmUxNzliMjM3ODgzZTUxYi5zZXRDb250ZW50KGh0bWxfNzM4NzdmM2I2N2Q3NGYwZjljMzc2NDMwODE3ZDRiZjQpOwogICAgICAgICAgICAKCiAgICAgICAgICAgIGNpcmNsZV9tYXJrZXJfYzU5NWRlYzI0ZmM5NGQ4YTgzYzRlNmNiMmJjMDZjOWMuYmluZFBvcHVwKHBvcHVwXzg4MzMwNzcyYWViZjRkMjliZTE3OWIyMzc4ODNlNTFiKTsKCiAgICAgICAgICAgIAogICAgICAgIAogICAgCiAgICAgICAgICAgIHZhciBjaXJjbGVfbWFya2VyXzU0MDVmMTllZDQ1ZTQ0Y2RiMDA2NWQ5NjAyMjU4NjRkID0gTC5jaXJjbGVNYXJrZXIoCiAgICAgICAgICAgICAgICBbNDQuNjU5MjE5Mjk2MjkwOTcsLTYzLjYwMzU5MjUxNDk5MTc2XSwKICAgICAgICAgICAgICAgIHsKICAiYnViYmxpbmdNb3VzZUV2ZW50cyI6IHRydWUsCiAgImNvbG9yIjogImJsdWUiLAogICJkYXNoQXJyYXkiOiBudWxsLAogICJkYXNoT2Zmc2V0IjogbnVsbCwKICAiZmlsbCI6IHRydWUsCiAgImZpbGxDb2xvciI6ICIjMzE4NmNjIiwKICAiZmlsbE9wYWNpdHkiOiAwLjcsCiAgImZpbGxSdWxlIjogImV2ZW5vZGQiLAogICJsaW5lQ2FwIjogInJvdW5kIiwKICAibGluZUpvaW4iOiAicm91bmQiLAogICJvcGFjaXR5IjogMS4wLAogICJyYWRpdXMiOiA1LAogICJzdHJva2UiOiB0cnVlLAogICJ3ZWlnaHQiOiAzCn0KICAgICAgICAgICAgICAgICkuYWRkVG8obWFwX2M2N2RjMmYzNzk3MzQ0Y2M4NTMyMDc4NDgxZDI5NWE1KTsKICAgICAgICAgICAgCiAgICAKICAgICAgICAgICAgdmFyIHBvcHVwX2QwYWNiODU2MDUwYzRhZTRhNDljZWQzNDYwZGNkNWRmID0gTC5wb3B1cCh7bWF4V2lkdGg6ICczMDAnfSk7CgogICAgICAgICAgICAKICAgICAgICAgICAgICAgIHZhciBodG1sXzI3MWZjYjI0ZDI2NzRhYWQ4YjJmYTgwMDA0MDc3ZTU2ID0gJCgnPGRpdiBpZD0iaHRtbF8yNzFmY2IyNGQyNjc0YWFkOGIyZmE4MDAwNDA3N2U1NiIgc3R5bGU9IndpZHRoOiAxMDAuMCU7IGhlaWdodDogMTAwLjAlOyI+QnVyZ2VyIEtpbmc8L2Rpdj4nKVswXTsKICAgICAgICAgICAgICAgIHBvcHVwX2QwYWNiODU2MDUwYzRhZTRhNDljZWQzNDYwZGNkNWRmLnNldENvbnRlbnQoaHRtbF8yNzFmY2IyNGQyNjc0YWFkOGIyZmE4MDAwNDA3N2U1Nik7CiAgICAgICAgICAgIAoKICAgICAgICAgICAgY2lyY2xlX21hcmtlcl81NDA1ZjE5ZWQ0NWU0NGNkYjAwNjVkOTYwMjI1ODY0ZC5iaW5kUG9wdXAocG9wdXBfZDBhY2I4NTYwNTBjNGFlNGE0OWNlZDM0NjBkY2Q1ZGYpOwoKICAgICAgICAgICAgCiAgICAgICAgCiAgICAKICAgICAgICAgICAgdmFyIGNpcmNsZV9tYXJrZXJfNDFlMjZhZjEwZjIzNGFhNTg1NzAyYjhlMjliMmEzMTcgPSBMLmNpcmNsZU1hcmtlcigKICAgICAgICAgICAgICAgIFs0NC42NTgzMTcsLTYzLjYwNDE1Ml0sCiAgICAgICAgICAgICAgICB7CiAgImJ1YmJsaW5nTW91c2VFdmVudHMiOiB0cnVlLAogICJjb2xvciI6ICJibHVlIiwKICAiZGFzaEFycmF5IjogbnVsbCwKICAiZGFzaE9mZnNldCI6IG51bGwsCiAgImZpbGwiOiB0cnVlLAogICJmaWxsQ29sb3IiOiAiIzMxODZjYyIsCiAgImZpbGxPcGFjaXR5IjogMC43LAogICJmaWxsUnVsZSI6ICJldmVub2RkIiwKICAibGluZUNhcCI6ICJyb3VuZCIsCiAgImxpbmVKb2luIjogInJvdW5kIiwKICAib3BhY2l0eSI6IDEuMCwKICAicmFkaXVzIjogNSwKICAic3Ryb2tlIjogdHJ1ZSwKICAid2VpZ2h0IjogMwp9CiAgICAgICAgICAgICAgICApLmFkZFRvKG1hcF9jNjdkYzJmMzc5NzM0NGNjODUzMjA3ODQ4MWQyOTVhNSk7CiAgICAgICAgICAgIAogICAgCiAgICAgICAgICAgIHZhciBwb3B1cF84Mjg2ZTRlOGI1ZDU0ZDcxODEzOGYzMmE3MWFjMDJiYyA9IEwucG9wdXAoe21heFdpZHRoOiAnMzAwJ30pOwoKICAgICAgICAgICAgCiAgICAgICAgICAgICAgICB2YXIgaHRtbF81MjJhYjRhNmUwMWU0MjAzODg4ODhjMjJkNTRlOWMzOCA9ICQoJzxkaXYgaWQ9Imh0bWxfNTIyYWI0YTZlMDFlNDIwMzg4ODg4YzIyZDU0ZTljMzgiIHN0eWxlPSJ3aWR0aDogMTAwLjAlOyBoZWlnaHQ6IDEwMC4wJTsiPkF0bGFudGljIFN1cGVyc3RvcmU8L2Rpdj4nKVswXTsKICAgICAgICAgICAgICAgIHBvcHVwXzgyODZlNGU4YjVkNTRkNzE4MTM4ZjMyYTcxYWMwMmJjLnNldENvbnRlbnQoaHRtbF81MjJhYjRhNmUwMWU0MjAzODg4ODhjMjJkNTRlOWMzOCk7CiAgICAgICAgICAgIAoKICAgICAgICAgICAgY2lyY2xlX21hcmtlcl80MWUyNmFmMTBmMjM0YWE1ODU3MDJiOGUyOWIyYTMxNy5iaW5kUG9wdXAocG9wdXBfODI4NmU0ZThiNWQ1NGQ3MTgxMzhmMzJhNzFhYzAyYmMpOwoKICAgICAgICAgICAgCiAgICAgICAgCiAgICAKICAgICAgICAgICAgdmFyIGNpcmNsZV9tYXJrZXJfYWEyMzAzNjU5YjU0NDNjYTg3ODI5NzAxZDliNzUyZTIgPSBMLmNpcmNsZU1hcmtlcigKICAgICAgICAgICAgICAgIFs0NC42NTkxMzMsLTYzLjYwNDQ4MV0sCiAgICAgICAgICAgICAgICB7CiAgImJ1YmJsaW5nTW91c2VFdmVudHMiOiB0cnVlLAogICJjb2xvciI6ICJibHVlIiwKICAiZGFzaEFycmF5IjogbnVsbCwKICAiZGFzaE9mZnNldCI6IG51bGwsCiAgImZpbGwiOiB0cnVlLAogICJmaWxsQ29sb3IiOiAiIzMxODZjYyIsCiAgImZpbGxPcGFjaXR5IjogMC43LAogICJmaWxsUnVsZSI6ICJldmVub2RkIiwKICAibGluZUNhcCI6ICJyb3VuZCIsCiAgImxpbmVKb2luIjogInJvdW5kIiwKICAib3BhY2l0eSI6IDEuMCwKICAicmFkaXVzIjogNSwKICAic3Ryb2tlIjogdHJ1ZSwKICAid2VpZ2h0IjogMwp9CiAgICAgICAgICAgICAgICApLmFkZFRvKG1hcF9jNjdkYzJmMzc5NzM0NGNjODUzMjA3ODQ4MWQyOTVhNSk7CiAgICAgICAgICAgIAogICAgCiAgICAgICAgICAgIHZhciBwb3B1cF9jZjMzM2Q5NDhiNzQ0ZjVhYjk2MWNiZWIwOWI3ZGVkMyA9IEwucG9wdXAoe21heFdpZHRoOiAnMzAwJ30pOwoKICAgICAgICAgICAgCiAgICAgICAgICAgICAgICB2YXIgaHRtbF82NTIwNDA2MjVjMGQ0ZDkxYTU2ZDVmYmZiNzZiNTIyNyA9ICQoJzxkaXYgaWQ9Imh0bWxfNjUyMDQwNjI1YzBkNGQ5MWE1NmQ1ZmJmYjc2YjUyMjciIHN0eWxlPSJ3aWR0aDogMTAwLjAlOyBoZWlnaHQ6IDEwMC4wJTsiPkRvbGxhcmFtYTwvZGl2PicpWzBdOwogICAgICAgICAgICAgICAgcG9wdXBfY2YzMzNkOTQ4Yjc0NGY1YWI5NjFjYmViMDliN2RlZDMuc2V0Q29udGVudChodG1sXzY1MjA0MDYyNWMwZDRkOTFhNTZkNWZiZmI3NmI1MjI3KTsKICAgICAgICAgICAgCgogICAgICAgICAgICBjaXJjbGVfbWFya2VyX2FhMjMwMzY1OWI1NDQzY2E4NzgyOTcwMWQ5Yjc1MmUyLmJpbmRQb3B1cChwb3B1cF9jZjMzM2Q5NDhiNzQ0ZjVhYjk2MWNiZWIwOWI3ZGVkMyk7CgogICAgICAgICAgICAKICAgICAgICAKICAgIAogICAgICAgICAgICB2YXIgY2lyY2xlX21hcmtlcl9iOTdhMjA1ZjQxYTM0YzhkOGQ3MGE0NmQyMDA4MDVkNSA9IEwuY2lyY2xlTWFya2VyKAogICAgICAgICAgICAgICAgWzQ0LjY1NzQyOCwtNjMuNTk5ODM5XSwKICAgICAgICAgICAgICAgIHsKICAiYnViYmxpbmdNb3VzZUV2ZW50cyI6IHRydWUsCiAgImNvbG9yIjogImJsdWUiLAogICJkYXNoQXJyYXkiOiBudWxsLAogICJkYXNoT2Zmc2V0IjogbnVsbCwKICAiZmlsbCI6IHRydWUsCiAgImZpbGxDb2xvciI6ICIjMzE4NmNjIiwKICAiZmlsbE9wYWNpdHkiOiAwLjcsCiAgImZpbGxSdWxlIjogImV2ZW5vZGQiLAogICJsaW5lQ2FwIjogInJvdW5kIiwKICAibGluZUpvaW4iOiAicm91bmQiLAogICJvcGFjaXR5IjogMS4wLAogICJyYWRpdXMiOiA1LAogICJzdHJva2UiOiB0cnVlLAogICJ3ZWlnaHQiOiAzCn0KICAgICAgICAgICAgICAgICkuYWRkVG8obWFwX2M2N2RjMmYzNzk3MzQ0Y2M4NTMyMDc4NDgxZDI5NWE1KTsKICAgICAgICAgICAgCiAgICAKICAgICAgICAgICAgdmFyIHBvcHVwX2IyNTkxODA3OGY4MzQwZGFhZjNiYzBmNTlkOWI3NGQxID0gTC5wb3B1cCh7bWF4V2lkdGg6ICczMDAnfSk7CgogICAgICAgICAgICAKICAgICAgICAgICAgICAgIHZhciBodG1sX2NiNzgwMDdjZGM0MDRmYTRiNGRjNDA5ODMwZGViN2JkID0gJCgnPGRpdiBpZD0iaHRtbF9jYjc4MDA3Y2RjNDA0ZmE0YjRkYzQwOTgzMGRlYjdiZCIgc3R5bGU9IndpZHRoOiAxMDAuMCU7IGhlaWdodDogMTAwLjAlOyI+U2hvcHBlcnMgRHJ1ZyBNYXJ0PC9kaXY+JylbMF07CiAgICAgICAgICAgICAgICBwb3B1cF9iMjU5MTgwNzhmODM0MGRhYWYzYmMwZjU5ZDliNzRkMS5zZXRDb250ZW50KGh0bWxfY2I3ODAwN2NkYzQwNGZhNGI0ZGM0MDk4MzBkZWI3YmQpOwogICAgICAgICAgICAKCiAgICAgICAgICAgIGNpcmNsZV9tYXJrZXJfYjk3YTIwNWY0MWEzNGM4ZDhkNzBhNDZkMjAwODA1ZDUuYmluZFBvcHVwKHBvcHVwX2IyNTkxODA3OGY4MzQwZGFhZjNiYzBmNTlkOWI3NGQxKTsKCiAgICAgICAgICAgIAogICAgICAgIAogICAgCiAgICAgICAgICAgIHZhciBjaXJjbGVfbWFya2VyXzg5ZGY4ZTU5NmVkNjRlMGY4ZjI2MWU1ZDdmYTJlNmE1ID0gTC5jaXJjbGVNYXJrZXIoCiAgICAgICAgICAgICAgICBbNDQuNjU5OTEsLTYzLjU5NTAyNF0sCiAgICAgICAgICAgICAgICB7CiAgImJ1YmJsaW5nTW91c2VFdmVudHMiOiB0cnVlLAogICJjb2xvciI6ICJibHVlIiwKICAiZGFzaEFycmF5IjogbnVsbCwKICAiZGFzaE9mZnNldCI6IG51bGwsCiAgImZpbGwiOiB0cnVlLAogICJmaWxsQ29sb3IiOiAiIzMxODZjYyIsCiAgImZpbGxPcGFjaXR5IjogMC43LAogICJmaWxsUnVsZSI6ICJldmVub2RkIiwKICAibGluZUNhcCI6ICJyb3VuZCIsCiAgImxpbmVKb2luIjogInJvdW5kIiwKICAib3BhY2l0eSI6IDEuMCwKICAicmFkaXVzIjogNSwKICAic3Ryb2tlIjogdHJ1ZSwKICAid2VpZ2h0IjogMwp9CiAgICAgICAgICAgICAgICApLmFkZFRvKG1hcF9jNjdkYzJmMzc5NzM0NGNjODUzMjA3ODQ4MWQyOTVhNSk7CiAgICAgICAgICAgIAogICAgCiAgICAgICAgICAgIHZhciBwb3B1cF83Y2JkNGViZGNkOGU0MDUxYmVkOGQ3YjhkM2MyZDhlZSA9IEwucG9wdXAoe21heFdpZHRoOiAnMzAwJ30pOwoKICAgICAgICAgICAgCiAgICAgICAgICAgICAgICB2YXIgaHRtbF9kY2NjYmRmNWVmZGM0MTEyYTk0YWNmNjE4OGEwMTA5YiA9ICQoJzxkaXYgaWQ9Imh0bWxfZGNjY2JkZjVlZmRjNDExMmE5NGFjZjYxODhhMDEwOWIiIHN0eWxlPSJ3aWR0aDogMTAwLjAlOyBoZWlnaHQ6IDEwMC4wJTsiPlN1YndheTwvZGl2PicpWzBdOwogICAgICAgICAgICAgICAgcG9wdXBfN2NiZDRlYmRjZDhlNDA1MWJlZDhkN2I4ZDNjMmQ4ZWUuc2V0Q29udGVudChodG1sX2RjY2NiZGY1ZWZkYzQxMTJhOTRhY2Y2MTg4YTAxMDliKTsKICAgICAgICAgICAgCgogICAgICAgICAgICBjaXJjbGVfbWFya2VyXzg5ZGY4ZTU5NmVkNjRlMGY4ZjI2MWU1ZDdmYTJlNmE1LmJpbmRQb3B1cChwb3B1cF83Y2JkNGViZGNkOGU0MDUxYmVkOGQ3YjhkM2MyZDhlZSk7CgogICAgICAgICAgICAKICAgICAgICAKICAgIAogICAgICAgICAgICB2YXIgY2lyY2xlX21hcmtlcl9iYjE1Y2NiYTE3N2M0NDZkYTM1ODFhNmJkNTdiMWE1OSA9IEwuY2lyY2xlTWFya2VyKAogICAgICAgICAgICAgICAgWzQ0LjY1ODcxOTU2ODE0MzA4NCwtNjMuNjAzMzc3Mjc2NjE2NjddLAogICAgICAgICAgICAgICAgewogICJidWJibGluZ01vdXNlRXZlbnRzIjogdHJ1ZSwKICAiY29sb3IiOiAiYmx1ZSIsCiAgImRhc2hBcnJheSI6IG51bGwsCiAgImRhc2hPZmZzZXQiOiBudWxsLAogICJmaWxsIjogdHJ1ZSwKICAiZmlsbENvbG9yIjogIiMzMTg2Y2MiLAogICJmaWxsT3BhY2l0eSI6IDAuNywKICAiZmlsbFJ1bGUiOiAiZXZlbm9kZCIsCiAgImxpbmVDYXAiOiAicm91bmQiLAogICJsaW5lSm9pbiI6ICJyb3VuZCIsCiAgIm9wYWNpdHkiOiAxLjAsCiAgInJhZGl1cyI6IDUsCiAgInN0cm9rZSI6IHRydWUsCiAgIndlaWdodCI6IDMKfQogICAgICAgICAgICAgICAgKS5hZGRUbyhtYXBfYzY3ZGMyZjM3OTczNDRjYzg1MzIwNzg0ODFkMjk1YTUpOwogICAgICAgICAgICAKICAgIAogICAgICAgICAgICB2YXIgcG9wdXBfNmE3NzQ2YTQxMjcyNGFmNjg3NTdmNGVhYmI0MzIwNjQgPSBMLnBvcHVwKHttYXhXaWR0aDogJzMwMCd9KTsKCiAgICAgICAgICAgIAogICAgICAgICAgICAgICAgdmFyIGh0bWxfZjFmOTNkN2FiNjMzNDc5ZDgwOGY0YTQwZTMyNGFhMzkgPSAkKCc8ZGl2IGlkPSJodG1sX2YxZjkzZDdhYjYzMzQ3OWQ4MDhmNGE0MGUzMjRhYTM5IiBzdHlsZT0id2lkdGg6IDEwMC4wJTsgaGVpZ2h0OiAxMDAuMCU7Ij5NZXRybyBEZWxpPC9kaXY+JylbMF07CiAgICAgICAgICAgICAgICBwb3B1cF82YTc3NDZhNDEyNzI0YWY2ODc1N2Y0ZWFiYjQzMjA2NC5zZXRDb250ZW50KGh0bWxfZjFmOTNkN2FiNjMzNDc5ZDgwOGY0YTQwZTMyNGFhMzkpOwogICAgICAgICAgICAKCiAgICAgICAgICAgIGNpcmNsZV9tYXJrZXJfYmIxNWNjYmExNzdjNDQ2ZGEzNTgxYTZiZDU3YjFhNTkuYmluZFBvcHVwKHBvcHVwXzZhNzc0NmE0MTI3MjRhZjY4NzU3ZjRlYWJiNDMyMDY0KTsKCiAgICAgICAgICAgIAogICAgICAgIAogICAgCiAgICAgICAgICAgIHZhciBjaXJjbGVfbWFya2VyXzBjYWI4NmM1ZjU1MzQyNGFhYTg3NWJlMGJkNTkzNjQwID0gTC5jaXJjbGVNYXJrZXIoCiAgICAgICAgICAgICAgICBbNDQuNjYyMTEzLC02My41OTgyODldLAogICAgICAgICAgICAgICAgewogICJidWJibGluZ01vdXNlRXZlbnRzIjogdHJ1ZSwKICAiY29sb3IiOiAiYmx1ZSIsCiAgImRhc2hBcnJheSI6IG51bGwsCiAgImRhc2hPZmZzZXQiOiBudWxsLAogICJmaWxsIjogdHJ1ZSwKICAiZmlsbENvbG9yIjogIiMzMTg2Y2MiLAogICJmaWxsT3BhY2l0eSI6IDAuNywKICAiZmlsbFJ1bGUiOiAiZXZlbm9kZCIsCiAgImxpbmVDYXAiOiAicm91bmQiLAogICJsaW5lSm9pbiI6ICJyb3VuZCIsCiAgIm9wYWNpdHkiOiAxLjAsCiAgInJhZGl1cyI6IDUsCiAgInN0cm9rZSI6IHRydWUsCiAgIndlaWdodCI6IDMKfQogICAgICAgICAgICAgICAgKS5hZGRUbyhtYXBfYzY3ZGMyZjM3OTczNDRjYzg1MzIwNzg0ODFkMjk1YTUpOwogICAgICAgICAgICAKICAgIAogICAgICAgICAgICB2YXIgcG9wdXBfYjBhMzdkOWJlNjc0NDc2N2I0NDdhMDExODFiOThmYWQgPSBMLnBvcHVwKHttYXhXaWR0aDogJzMwMCd9KTsKCiAgICAgICAgICAgIAogICAgICAgICAgICAgICAgdmFyIGh0bWxfNjc0ZWZjMzM1YjJmNGM3N2JkMjM2ZjQxOWU3N2UzYmMgPSAkKCc8ZGl2IGlkPSJodG1sXzY3NGVmYzMzNWIyZjRjNzdiZDIzNmY0MTllNzdlM2JjIiBzdHlsZT0id2lkdGg6IDEwMC4wJTsgaGVpZ2h0OiAxMDAuMCU7Ij5DYXJpYmJlYW4gVHdpc3Q8L2Rpdj4nKVswXTsKICAgICAgICAgICAgICAgIHBvcHVwX2IwYTM3ZDliZTY3NDQ3NjdiNDQ3YTAxMTgxYjk4ZmFkLnNldENvbnRlbnQoaHRtbF82NzRlZmMzMzViMmY0Yzc3YmQyMzZmNDE5ZTc3ZTNiYyk7CiAgICAgICAgICAgIAoKICAgICAgICAgICAgY2lyY2xlX21hcmtlcl8wY2FiODZjNWY1NTM0MjRhYWE4NzViZTBiZDU5MzY0MC5iaW5kUG9wdXAocG9wdXBfYjBhMzdkOWJlNjc0NDc2N2I0NDdhMDExODFiOThmYWQpOwoKICAgICAgICAgICAgCiAgICAgICAgCiAgICAKICAgICAgICAgICAgdmFyIGNpcmNsZV9tYXJrZXJfMGE2ODE4NjY4YzBlNDhmYTgxNzFmOGZkMTdkMDdlYmUgPSBMLmNpcmNsZU1hcmtlcigKICAgICAgICAgICAgICAgIFs0NC42NTY5NTksLTYzLjU5ODU2NV0sCiAgICAgICAgICAgICAgICB7CiAgImJ1YmJsaW5nTW91c2VFdmVudHMiOiB0cnVlLAogICJjb2xvciI6ICJibHVlIiwKICAiZGFzaEFycmF5IjogbnVsbCwKICAiZGFzaE9mZnNldCI6IG51bGwsCiAgImZpbGwiOiB0cnVlLAogICJmaWxsQ29sb3IiOiAiIzMxODZjYyIsCiAgImZpbGxPcGFjaXR5IjogMC43LAogICJmaWxsUnVsZSI6ICJldmVub2RkIiwKICAibGluZUNhcCI6ICJyb3VuZCIsCiAgImxpbmVKb2luIjogInJvdW5kIiwKICAib3BhY2l0eSI6IDEuMCwKICAicmFkaXVzIjogNSwKICAic3Ryb2tlIjogdHJ1ZSwKICAid2VpZ2h0IjogMwp9CiAgICAgICAgICAgICAgICApLmFkZFRvKG1hcF9jNjdkYzJmMzc5NzM0NGNjODUzMjA3ODQ4MWQyOTVhNSk7CiAgICAgICAgICAgIAogICAgCiAgICAgICAgICAgIHZhciBwb3B1cF9mMzczYjNhZmExODM0ZGE0YThhZGY1YzhjODJjNmI5MCA9IEwucG9wdXAoe21heFdpZHRoOiAnMzAwJ30pOwoKICAgICAgICAgICAgCiAgICAgICAgICAgICAgICB2YXIgaHRtbF9mNWFiMmY5NTIxMWY0MTU3YjI3OTE1ZTAyYTM3ZDg0YyA9ICQoJzxkaXYgaWQ9Imh0bWxfZjVhYjJmOTUyMTFmNDE1N2IyNzkxNWUwMmEzN2Q4NGMiIHN0eWxlPSJ3aWR0aDogMTAwLjAlOyBoZWlnaHQ6IDEwMC4wJTsiPkNvc21vUHJvZjwvZGl2PicpWzBdOwogICAgICAgICAgICAgICAgcG9wdXBfZjM3M2IzYWZhMTgzNGRhNGE4YWRmNWM4YzgyYzZiOTAuc2V0Q29udGVudChodG1sX2Y1YWIyZjk1MjExZjQxNTdiMjc5MTVlMDJhMzdkODRjKTsKICAgICAgICAgICAgCgogICAgICAgICAgICBjaXJjbGVfbWFya2VyXzBhNjgxODY2OGMwZTQ4ZmE4MTcxZjhmZDE3ZDA3ZWJlLmJpbmRQb3B1cChwb3B1cF9mMzczYjNhZmExODM0ZGE0YThhZGY1YzhjODJjNmI5MCk7CgogICAgICAgICAgICAKICAgICAgICAKICAgIAogICAgICAgICAgICB2YXIgY2lyY2xlX21hcmtlcl8xOGYxMjI0ZjQ3MjQ0NjY3OTRjZDlmMGY2ZWE4YzdmNiA9IEwuY2lyY2xlTWFya2VyKAogICAgICAgICAgICAgICAgWzQ0LjY1OTAxMTQ5MTA3MDU0LC02My41OTU3NjE1NzA1NjM3M10sCiAgICAgICAgICAgICAgICB7CiAgImJ1YmJsaW5nTW91c2VFdmVudHMiOiB0cnVlLAogICJjb2xvciI6ICJibHVlIiwKICAiZGFzaEFycmF5IjogbnVsbCwKICAiZGFzaE9mZnNldCI6IG51bGwsCiAgImZpbGwiOiB0cnVlLAogICJmaWxsQ29sb3IiOiAiIzMxODZjYyIsCiAgImZpbGxPcGFjaXR5IjogMC43LAogICJmaWxsUnVsZSI6ICJldmVub2RkIiwKICAibGluZUNhcCI6ICJyb3VuZCIsCiAgImxpbmVKb2luIjogInJvdW5kIiwKICAib3BhY2l0eSI6IDEuMCwKICAicmFkaXVzIjogNSwKICAic3Ryb2tlIjogdHJ1ZSwKICAid2VpZ2h0IjogMwp9CiAgICAgICAgICAgICAgICApLmFkZFRvKG1hcF9jNjdkYzJmMzc5NzM0NGNjODUzMjA3ODQ4MWQyOTVhNSk7CiAgICAgICAgICAgIAogICAgCiAgICAgICAgICAgIHZhciBwb3B1cF9mOGQ0NTNiYzI0YWY0ZjRkOGRiYWU4YTFkY2Y0MzE0OSA9IEwucG9wdXAoe21heFdpZHRoOiAnMzAwJ30pOwoKICAgICAgICAgICAgCiAgICAgICAgICAgICAgICB2YXIgaHRtbF83ZTQ5ZDY4ZDAyNzM0YmNjYTk3YmY1YjY4MTE0Njk1OSA9ICQoJzxkaXYgaWQ9Imh0bWxfN2U0OWQ2OGQwMjczNGJjY2E5N2JmNWI2ODExNDY5NTkiIHN0eWxlPSJ3aWR0aDogMTAwLjAlOyBoZWlnaHQ6IDEwMC4wJTsiPlJpY2ggRm9yZXN0IENhZmU8L2Rpdj4nKVswXTsKICAgICAgICAgICAgICAgIHBvcHVwX2Y4ZDQ1M2JjMjRhZjRmNGQ4ZGJhZThhMWRjZjQzMTQ5LnNldENvbnRlbnQoaHRtbF83ZTQ5ZDY4ZDAyNzM0YmNjYTk3YmY1YjY4MTE0Njk1OSk7CiAgICAgICAgICAgIAoKICAgICAgICAgICAgY2lyY2xlX21hcmtlcl8xOGYxMjI0ZjQ3MjQ0NjY3OTRjZDlmMGY2ZWE4YzdmNi5iaW5kUG9wdXAocG9wdXBfZjhkNDUzYmMyNGFmNGY0ZDhkYmFlOGExZGNmNDMxNDkpOwoKICAgICAgICAgICAgCiAgICAgICAgCiAgICAKICAgICAgICAgICAgdmFyIGNpcmNsZV9tYXJrZXJfODcwM2QzMzkyZWI0NDBlYTliNDEyM2IyMDdiYTcxODcgPSBMLmNpcmNsZU1hcmtlcigKICAgICAgICAgICAgICAgIFs0NC42NjQ0ODI3OTg5MDU0MiwtNjMuNjAwNTA5ODk4OTU5NjVdLAogICAgICAgICAgICAgICAgewogICJidWJibGluZ01vdXNlRXZlbnRzIjogdHJ1ZSwKICAiY29sb3IiOiAiYmx1ZSIsCiAgImRhc2hBcnJheSI6IG51bGwsCiAgImRhc2hPZmZzZXQiOiBudWxsLAogICJmaWxsIjogdHJ1ZSwKICAiZmlsbENvbG9yIjogIiMzMTg2Y2MiLAogICJmaWxsT3BhY2l0eSI6IDAuNywKICAiZmlsbFJ1bGUiOiAiZXZlbm9kZCIsCiAgImxpbmVDYXAiOiAicm91bmQiLAogICJsaW5lSm9pbiI6ICJyb3VuZCIsCiAgIm9wYWNpdHkiOiAxLjAsCiAgInJhZGl1cyI6IDUsCiAgInN0cm9rZSI6IHRydWUsCiAgIndlaWdodCI6IDMKfQogICAgICAgICAgICAgICAgKS5hZGRUbyhtYXBfYzY3ZGMyZjM3OTczNDRjYzg1MzIwNzg0ODFkMjk1YTUpOwogICAgICAgICAgICAKICAgIAogICAgICAgICAgICB2YXIgcG9wdXBfODU1YzZlZDg4NzJiNDJmY2E3ZGQ1NzRhMjFjODc1NTUgPSBMLnBvcHVwKHttYXhXaWR0aDogJzMwMCd9KTsKCiAgICAgICAgICAgIAogICAgICAgICAgICAgICAgdmFyIGh0bWxfMWM0ZWQ3MjU2M2I2NDQ2NmIwMTdkNDdiOTFkMDJlOGEgPSAkKCc8ZGl2IGlkPSJodG1sXzFjNGVkNzI1NjNiNjQ0NjZiMDE3ZDQ3YjkxZDAyZThhIiBzdHlsZT0id2lkdGg6IDEwMC4wJTsgaGVpZ2h0OiAxMDAuMCU7Ij5Gb3J0IE5lZWRoYW0gTWVtb3JpYWwgUGFyazwvZGl2PicpWzBdOwogICAgICAgICAgICAgICAgcG9wdXBfODU1YzZlZDg4NzJiNDJmY2E3ZGQ1NzRhMjFjODc1NTUuc2V0Q29udGVudChodG1sXzFjNGVkNzI1NjNiNjQ0NjZiMDE3ZDQ3YjkxZDAyZThhKTsKICAgICAgICAgICAgCgogICAgICAgICAgICBjaXJjbGVfbWFya2VyXzg3MDNkMzM5MmViNDQwZWE5YjQxMjNiMjA3YmE3MTg3LmJpbmRQb3B1cChwb3B1cF84NTVjNmVkODg3MmI0MmZjYTdkZDU3NGEyMWM4NzU1NSk7CgogICAgICAgICAgICAKICAgICAgICAKPC9zY3JpcHQ+ onload=\"this.contentDocument.open();this.contentDocument.write(atob(this.getAttribute('data-html')));this.contentDocument.close();\" allowfullscreen webkitallowfullscreen mozallowfullscreen></iframe></div></div>"
      ],
      "text/plain": [
       "<folium.folium.Map at 0x7f200d0edb00>"
      ]
     },
     "execution_count": 74,
     "metadata": {},
     "output_type": "execute_result"
    }
   ],
   "source": [
    "map_upper = folium.Map(location=[44.6602, -63.601000000000006], zoom_start=16)\n",
    "\n",
    "# add markers to map\n",
    "for lat, lng, label in zip(nearby_venues2['lat'], nearby_venues2['lng'], nearby_venues2['name']):\n",
    "    label = folium.Popup(label, parse_html=True)\n",
    "    folium.CircleMarker(\n",
    "        [lat, lng],\n",
    "        radius=5,\n",
    "        popup=label,\n",
    "        color='blue',\n",
    "        fill=True,\n",
    "        fill_color='#3186cc',\n",
    "        fill_opacity=0.7,\n",
    "        parse_html=False).add_to(map_upper)  \n",
    "    \n",
    "map_upper"
   ]
  },
  {
   "cell_type": "code",
   "execution_count": null,
   "metadata": {},
   "outputs": [],
   "source": []
  }
 ],
 "metadata": {
  "kernelspec": {
   "display_name": "Python",
   "language": "python",
   "name": "conda-env-python-py"
  },
  "language_info": {
   "codemirror_mode": {
    "name": "ipython",
    "version": 3
   },
   "file_extension": ".py",
   "mimetype": "text/x-python",
   "name": "python",
   "nbconvert_exporter": "python",
   "pygments_lexer": "ipython3",
   "version": "3.6.12"
  }
 },
 "nbformat": 4,
 "nbformat_minor": 4
}
